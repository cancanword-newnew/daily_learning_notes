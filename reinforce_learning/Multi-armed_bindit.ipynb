{
 "cells": [
  {
   "cell_type": "markdown",
   "id": "a0c095b1",
   "metadata": {},
   "source": [
    "# 假设目前有一个十臂老虎机，每个手臂ai摇动一次有pi概率得到奖励为1，其余情况不得奖，现在求摇动策略使得奖励最高"
   ]
  },
  {
   "cell_type": "markdown",
   "id": "2636221b",
   "metadata": {},
   "source": [
    "## 一、建立老虎机模型"
   ]
  },
  {
   "cell_type": "code",
   "execution_count": 1,
   "id": "9130d974",
   "metadata": {},
   "outputs": [],
   "source": [
    "import numpy as np\n",
    "import matplotlib.pyplot as plt"
   ]
  },
  {
   "cell_type": "code",
   "execution_count": 2,
   "id": "d752fc4e",
   "metadata": {},
   "outputs": [
    {
     "name": "stdout",
     "output_type": "stream",
     "text": [
      "1\n",
      "0.7203244934421581\n"
     ]
    }
   ],
   "source": [
    "class Bandit:\n",
    "    def __init__(self,k):\n",
    "        self.probs=np.random.uniform(size=k)\n",
    "        self.best_arm=np.argmax(self.probs)\n",
    "        self.max_prob=self.probs[self.best_arm]\n",
    "        self.k=k\n",
    "        \n",
    "    def step(self,a):\n",
    "        if np.random.rand()<self.probs[a]:\n",
    "            return 1\n",
    "        else:\n",
    "            return 0\n",
    "\n",
    "np.random.seed(1)\n",
    "k=10\n",
    "machine=Bandit(k)\n",
    "# 获奖最大概率的arm\n",
    "print(machine.best_arm)\n",
    "# 最大获奖概率\n",
    "print(machine.max_prob)"
   ]
  },
  {
   "cell_type": "markdown",
   "id": "898f9ac1",
   "metadata": {},
   "source": [
    "## 二、写出老虎机的基础操作，包括累计奖励，累计懊悔"
   ]
  },
  {
   "cell_type": "code",
   "execution_count": 3,
   "id": "63209fdd",
   "metadata": {},
   "outputs": [],
   "source": [
    "class Solver:\n",
    "    #自身属性，包括每根拉杆的拉动次数，动作合集，累计懊悔合集\n",
    "    def __init__(self,bandit):\n",
    "        self.bandit=bandit\n",
    "        self.counts=np.zeros(self.bandit.k)\n",
    "        self.regret=0\n",
    "        self.action=[]\n",
    "        self.regrets=[]\n",
    "    #更新累计懊悔    \n",
    "    def update_regret(self,a):\n",
    "        self.regret+=self.bandit.max_prob-self.bandit.probs[a]\n",
    "        self.regrets.append(self.regret)\n",
    "     # 返回当次执行的动作，根据选择的算法完善   \n",
    "    def run_one_step(self):\n",
    "        raise NotImplementedError\n",
    "    # 执行num_steps动作\n",
    "    def run(self,num_steps):\n",
    "        for _ in range(num_steps):\n",
    "            a=self.run_one_step()\n",
    "            self.update_regret(a)\n",
    "            self.action.append(a)\n",
    "            self.counts[a]+=1"
   ]
  },
  {
   "cell_type": "markdown",
   "id": "e6fba3a9",
   "metadata": {},
   "source": [
    "## 三、贪婪算法"
   ]
  },
  {
   "cell_type": "code",
   "execution_count": 4,
   "id": "66e14142",
   "metadata": {},
   "outputs": [],
   "source": [
    "class EpsilonGreedy(Solver):\n",
    "    def __init__(self,bandit,epsilon=0.01,init_prob=1.0):\n",
    "        super().__init__(bandit)\n",
    "        self.epsilon=epsilon\n",
    "        self.estimates=np.array([init_prob]*self.bandit.k)\n",
    "        \n",
    "    def run_one_step(self):\n",
    "        if np.random.random()<self.epsilon:\n",
    "            a=np.random.randint(0,self.bandit.k)\n",
    "        else:\n",
    "            a=self.bandit.best_arm\n",
    "        reward=self.bandit.step(a)\n",
    "        self.estimates[a]+=(reward-self.estimates[a])/(1+self.counts[a])\n",
    "        return a"
   ]
  },
  {
   "cell_type": "code",
   "execution_count": 5,
   "id": "f4df0995",
   "metadata": {},
   "outputs": [
    {
     "name": "stdout",
     "output_type": "stream",
     "text": [
      "20.80852433190333\n"
     ]
    }
   ],
   "source": [
    "np.random.seed(1)\n",
    "solver=EpsilonGreedy(machine,epsilon=0.01)\n",
    "solver.run(5000)\n",
    "print(solver.regret)"
   ]
  },
  {
   "cell_type": "markdown",
   "id": "67d8aaf4",
   "metadata": {},
   "source": [
    "## 四、上界置信算法"
   ]
  },
  {
   "cell_type": "code",
   "execution_count": null,
   "id": "a5567dfe",
   "metadata": {},
   "outputs": [],
   "source": []
  }
 ],
 "metadata": {
  "kernelspec": {
   "display_name": "Python 3 (ipykernel)",
   "language": "python",
   "name": "python3"
  },
  "language_info": {
   "codemirror_mode": {
    "name": "ipython",
    "version": 3
   },
   "file_extension": ".py",
   "mimetype": "text/x-python",
   "name": "python",
   "nbconvert_exporter": "python",
   "pygments_lexer": "ipython3",
   "version": "3.9.13"
  }
 },
 "nbformat": 4,
 "nbformat_minor": 5
}
