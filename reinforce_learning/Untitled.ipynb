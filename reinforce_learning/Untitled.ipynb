{
 "cells": [
  {
   "cell_type": "code",
   "execution_count": 1,
   "id": "af0d1afe",
   "metadata": {},
   "outputs": [],
   "source": [
    "import copy\n",
    "\n",
    "\n",
    "class CliffWalkingEnv:\n",
    "    \"\"\" 悬崖漫步环境\"\"\"\n",
    "    def __init__(self, ncol=12, nrow=4):\n",
    "        self.ncol = ncol  # 定义网格世界的列\n",
    "        self.nrow = nrow  # 定义网格世界的行\n",
    "        # 转移矩阵P[state][action] = [(p, next_state, reward, done)]包含下一个状态和奖励\n",
    "        self.P = self.createP()\n",
    "\n",
    "    def createP(self):\n",
    "        # 初始化\n",
    "        P = [[[] for j in range(4)] for i in range(self.nrow * self.ncol)]\n",
    "        # 4种动作, change[0]:上,change[1]:下, change[2]:左, change[3]:右。坐标系原点(0,0)\n",
    "        # 定义在左上角\n",
    "        change = [[0, -1], [0, 1], [-1, 0], [1, 0]]\n",
    "        for i in range(self.nrow):\n",
    "            for j in range(self.ncol):\n",
    "                for a in range(4):\n",
    "                    # 位置在悬崖或者目标状态,因为无法继续交互,任何动作奖励都为0\n",
    "                    if i == self.nrow - 1 and j > 0:\n",
    "                        P[i * self.ncol + j][a] = [(1, i * self.ncol + j, 0,\n",
    "                                                    True)]\n",
    "                        continue\n",
    "                    # 其他位置\n",
    "                    next_x = min(self.ncol - 1, max(0, j + change[a][0]))\n",
    "                    next_y = min(self.nrow - 1, max(0, i + change[a][1]))\n",
    "                    next_state = next_y * self.ncol + next_x\n",
    "                    reward = -1\n",
    "                    done = False\n",
    "                    # 下一个位置在悬崖或者终点\n",
    "                    if next_y == self.nrow - 1 and next_x > 0:\n",
    "                        done = True\n",
    "                        if next_x != self.ncol - 1:  # 下一个位置在悬崖\n",
    "                            reward = -100\n",
    "                    P[i * self.ncol + j][a] = [(1, next_state, reward, done)]\n",
    "        return P"
   ]
  },
  {
   "cell_type": "code",
   "execution_count": 3,
   "id": "24fb11f4",
   "metadata": {},
   "outputs": [
    {
     "data": {
      "text/plain": [
       "[[[], [], [], []],\n",
       " [[], [], [], []],\n",
       " [[], [], [], []],\n",
       " [[], [], [], []],\n",
       " [[], [], [], []],\n",
       " [[], [], [], []],\n",
       " [[], [], [], []],\n",
       " [[], [], [], []],\n",
       " [[], [], [], []],\n",
       " [[], [], [], []],\n",
       " [[], [], [], []],\n",
       " [[], [], [], []],\n",
       " [[], [], [], []],\n",
       " [[], [], [], []],\n",
       " [[], [], [], []],\n",
       " [[], [], [], []],\n",
       " [[], [], [], []],\n",
       " [[], [], [], []],\n",
       " [[], [], [], []],\n",
       " [[], [], [], []],\n",
       " [[], [], [], []],\n",
       " [[], [], [], []],\n",
       " [[], [], [], []],\n",
       " [[], [], [], []],\n",
       " [[], [], [], []],\n",
       " [[], [], [], []],\n",
       " [[], [], [], []],\n",
       " [[], [], [], []],\n",
       " [[], [], [], []],\n",
       " [[], [], [], []],\n",
       " [[], [], [], []],\n",
       " [[], [], [], []],\n",
       " [[], [], [], []],\n",
       " [[], [], [], []],\n",
       " [[], [], [], []],\n",
       " [[], [], [], []],\n",
       " [[], [], [], []],\n",
       " [[], [], [], []],\n",
       " [[], [], [], []],\n",
       " [[], [], [], []],\n",
       " [[], [], [], []],\n",
       " [[], [], [], []],\n",
       " [[], [], [], []],\n",
       " [[], [], [], []],\n",
       " [[], [], [], []],\n",
       " [[], [], [], []],\n",
       " [[], [], [], []],\n",
       " [[], [], [], []]]"
      ]
     },
     "execution_count": 3,
     "metadata": {},
     "output_type": "execute_result"
    }
   ],
   "source": [
    "P = [[[] for j in range(4)] for i in range(4 * 12)]\n",
    "P"
   ]
  },
  {
   "cell_type": "code",
   "execution_count": null,
   "id": "d222d1bd",
   "metadata": {},
   "outputs": [],
   "source": []
  }
 ],
 "metadata": {
  "kernelspec": {
   "display_name": "Python 3 (ipykernel)",
   "language": "python",
   "name": "python3"
  },
  "language_info": {
   "codemirror_mode": {
    "name": "ipython",
    "version": 3
   },
   "file_extension": ".py",
   "mimetype": "text/x-python",
   "name": "python",
   "nbconvert_exporter": "python",
   "pygments_lexer": "ipython3",
   "version": "3.9.13"
  }
 },
 "nbformat": 4,
 "nbformat_minor": 5
}
