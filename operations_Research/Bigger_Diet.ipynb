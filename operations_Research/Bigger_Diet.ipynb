{
 "cells": [
  {
   "cell_type": "code",
   "execution_count": 1,
   "id": "02932f71",
   "metadata": {},
   "outputs": [],
   "source": [
    "from coptpy import *"
   ]
  },
  {
   "cell_type": "code",
   "execution_count": 3,
   "id": "89534335",
   "metadata": {},
   "outputs": [
    {
     "name": "stdout",
     "output_type": "stream",
     "text": [
      "Cardinal Optimizer v7.2.9. Build date Jun 20 2025\n",
      "Copyright Cardinal Operations 2025. All Rights Reserved\n",
      "\n"
     ]
    }
   ],
   "source": [
    "env = Envr()\n",
    "\n",
    "model = env.createModel('name=Diet_Bigger')"
   ]
  },
  {
   "cell_type": "code",
   "execution_count": 8,
   "id": "01398fe4",
   "metadata": {},
   "outputs": [],
   "source": [
    "nutrition,minNut,maxNut=multidict(\n",
    "{\n",
    "    'Vitamin A':[700,10000],\n",
    "    'Vitamin C':[700,10000],\n",
    "    'Vitamin B1':[700,10000],\n",
    "    'Vitamin B2':[700,10000],\n",
    "})"
   ]
  },
  {
   "cell_type": "code",
   "execution_count": 9,
   "id": "c0c6cbc4",
   "metadata": {},
   "outputs": [
    {
     "data": {
      "text/plain": [
       "['Vitamin A', 'Vitamin C', 'Vitamin B1', 'Vitamin B2']"
      ]
     },
     "execution_count": 9,
     "metadata": {},
     "output_type": "execute_result"
    }
   ],
   "source": [
    "nutrition"
   ]
  },
  {
   "cell_type": "code",
   "execution_count": 10,
   "id": "ddd7d519",
   "metadata": {},
   "outputs": [
    {
     "data": {
      "text/plain": [
       "{'Vitamin A': 700, 'Vitamin C': 700, 'Vitamin B1': 700, 'Vitamin B2': 700}"
      ]
     },
     "execution_count": 10,
     "metadata": {},
     "output_type": "execute_result"
    }
   ],
   "source": [
    "minNut"
   ]
  },
  {
   "cell_type": "code",
   "execution_count": 11,
   "id": "97e5df4d",
   "metadata": {},
   "outputs": [
    {
     "data": {
      "text/plain": [
       "{'Vitamin A': 10000,\n",
       " 'Vitamin C': 10000,\n",
       " 'Vitamin B1': 10000,\n",
       " 'Vitamin B2': 10000}"
      ]
     },
     "execution_count": 11,
     "metadata": {},
     "output_type": "execute_result"
    }
   ],
   "source": [
    "maxNut"
   ]
  },
  {
   "cell_type": "code",
   "execution_count": 12,
   "id": "ce1e6a06",
   "metadata": {},
   "outputs": [],
   "source": [
    "foods, cost = multidict({\n",
    "    'BEEF': 3.19,\n",
    "    'CHK':  2.59,\n",
    "    'FISH': 2.29,\n",
    "    'HAM':  2.89,\n",
    "    'MCH':  1.89,\n",
    "    'MTL':  1.99,\n",
    "    'SPG':  1.99,\n",
    "    'TUR':  2.49})"
   ]
  },
  {
   "cell_type": "code",
   "execution_count": 13,
   "id": "6ebca413",
   "metadata": {},
   "outputs": [
    {
     "data": {
      "text/plain": [
       "['BEEF', 'CHK', 'FISH', 'HAM', 'MCH', 'MTL', 'SPG', 'TUR']"
      ]
     },
     "execution_count": 13,
     "metadata": {},
     "output_type": "execute_result"
    }
   ],
   "source": [
    "foods"
   ]
  },
  {
   "cell_type": "code",
   "execution_count": 18,
   "id": "0172d9d2",
   "metadata": {},
   "outputs": [
    {
     "data": {
      "text/plain": [
       "{'BEEF': 3.19,\n",
       " 'CHK': 2.59,\n",
       " 'FISH': 2.29,\n",
       " 'HAM': 2.89,\n",
       " 'MCH': 1.89,\n",
       " 'MTL': 1.99,\n",
       " 'SPG': 1.99,\n",
       " 'TUR': 2.49}"
      ]
     },
     "execution_count": 18,
     "metadata": {},
     "output_type": "execute_result"
    }
   ],
   "source": [
    "cost"
   ]
  },
  {
   "cell_type": "code",
   "execution_count": 19,
   "id": "ee1e76ec",
   "metadata": {},
   "outputs": [],
   "source": [
    "nutritionValues = {\n",
    "    ('BEEF', 'Vitamin A'):  60,\n",
    "    ('BEEF', 'Vitamin C'):  20,\n",
    "    ('BEEF', 'Vitamin B1'): 10,\n",
    "    ('BEEF', 'Vitamin B2'): 15,\n",
    "    ('CHK', 'Vitamin A'):   8,\n",
    "    ('CHK', 'Vitamin C'):   0,\n",
    "    ('CHK', 'Vitamin B1'):  20,\n",
    "    ('CHK', 'Vitamin B2'):  20,\n",
    "    ('FISH', 'Vitamin A'):  8,\n",
    "    ('FISH', 'Vitamin C'):  10,\n",
    "    ('FISH', 'Vitamin B1'): 15,\n",
    "    ('FISH', 'Vitamin B2'): 10,\n",
    "    ('HAM', 'Vitamin A'):   40,\n",
    "    ('HAM', 'Vitamin C'):   40,\n",
    "    ('HAM', 'Vitamin B1'):  35,\n",
    "    ('HAM', 'Vitamin B2'):  10,\n",
    "    ('MCH', 'Vitamin A'):   15,\n",
    "    ('MCH', 'Vitamin C'):   35,\n",
    "    ('MCH', 'Vitamin B1'):  15,\n",
    "    ('MCH', 'Vitamin B2'):  15,\n",
    "    ('MTL', 'Vitamin A'):   70,\n",
    "    ('MTL', 'Vitamin C'):   30,\n",
    "    ('MTL', 'Vitamin B1'):  15,\n",
    "    ('MTL', 'Vitamin B2'):  15,\n",
    "    ('SPG', 'Vitamin A'):   25,\n",
    "    ('SPG', 'Vitamin C'):   50,\n",
    "    ('SPG', 'Vitamin B1'):  25,\n",
    "    ('SPG', 'Vitamin B2'):  15,\n",
    "    ('TUR', 'Vitamin A'):   60,\n",
    "    ('TUR', 'Vitamin C'):   20,\n",
    "    ('TUR', 'Vitamin B1'):  15,\n",
    "    ('TUR', 'Vitamin B2'):  10}"
   ]
  },
  {
   "cell_type": "code",
   "execution_count": 20,
   "id": "2185852e",
   "metadata": {},
   "outputs": [],
   "source": [
    "buy = model.addVars(foods)"
   ]
  },
  {
   "cell_type": "code",
   "execution_count": 22,
   "id": "7952c353",
   "metadata": {},
   "outputs": [
    {
     "data": {
      "text/plain": [
       "<coptcore.tupledict at 0x19afffbb7c0>"
      ]
     },
     "execution_count": 22,
     "metadata": {},
     "output_type": "execute_result"
    }
   ],
   "source": [
    "buy"
   ]
  },
  {
   "cell_type": "code",
   "execution_count": 23,
   "id": "ba987b6d",
   "metadata": {},
   "outputs": [],
   "source": [
    "for n in nutrition:\n",
    "    model.addBoundConstr(quicksum(buy[f]*nutritionValues[f,n]  for f in  foods),\n",
    "                        minNut[n],maxNut[n],n)"
   ]
  },
  {
   "cell_type": "code",
   "execution_count": 25,
   "id": "cb0ac9d1",
   "metadata": {},
   "outputs": [],
   "source": [
    "model.setObjective(quicksum(cost[f]*buy[f]for f in foods)  ,  sense=COPT.MINIMIZE)"
   ]
  },
  {
   "cell_type": "code",
   "execution_count": 27,
   "id": "11a63a6d",
   "metadata": {},
   "outputs": [
    {
     "name": "stdout",
     "output_type": "stream",
     "text": [
      "Model fingerprint: 8c1360db\n",
      "\n",
      "Using Cardinal Optimizer v7.2.9 on Windows\n",
      "Hardware has 6 cores and 12 threads. Using instruction set X86_NATIVE (1)\n",
      "Minimizing an LP problem\n",
      "\n",
      "The original problem has:\n",
      "    4 rows, 8 columns and 31 non-zero elements\n",
      "The presolved problem has:\n",
      "    4 rows, 8 columns and 31 non-zero elements\n",
      "\n",
      "Starting the simplex solver using up to 8 threads\n",
      "\n",
      "Method   Iteration           Objective  Primal.NInf   Dual.NInf        Time\n",
      "Dual             0    0.0000000000e+00            4           0       0.01s\n",
      "Dual             1    8.8201991646e+01            0           0       0.01s\n",
      "Postsolving\n",
      "Dual             1    8.8200000000e+01            0           0       0.01s\n",
      "\n",
      "Solving finished\n",
      "Status: Optimal  Objective: 8.8200000000e+01  Iterations: 1  Time: 0.01s\n"
     ]
    }
   ],
   "source": [
    "model.solve()"
   ]
  },
  {
   "cell_type": "code",
   "execution_count": 31,
   "id": "13ff2800",
   "metadata": {},
   "outputs": [
    {
     "name": "stdout",
     "output_type": "stream",
     "text": [
      "initiall costs :\n",
      "88.19999999999999\n"
     ]
    }
   ],
   "source": [
    "print(\"initiall costs :\")\n",
    "print(model.objval)"
   ]
  },
  {
   "cell_type": "code",
   "execution_count": 30,
   "id": "29e2f473",
   "metadata": {},
   "outputs": [
    {
     "name": "stdout",
     "output_type": "stream",
     "text": [
      "varC(BEEF) buy0.0000\n",
      "varC(CHK) buy0.0000\n",
      "varC(FISH) buy0.0000\n",
      "varC(HAM) buy0.0000\n",
      "varC(MCH) buy46.6667\n",
      "varC(MTL) buy0.0000\n",
      "varC(SPG) buy0.0000\n",
      "varC(TUR) buy0.0000\n"
     ]
    }
   ],
   "source": [
    "for var in model.getVars():\n",
    "    print(\"var{0} buy{1:.4f}\".format(var.name,var.value))"
   ]
  },
  {
   "cell_type": "code",
   "execution_count": null,
   "id": "6582273e",
   "metadata": {},
   "outputs": [],
   "source": []
  }
 ],
 "metadata": {
  "kernelspec": {
   "display_name": "Python 3 (ipykernel)",
   "language": "python",
   "name": "python3"
  },
  "language_info": {
   "codemirror_mode": {
    "name": "ipython",
    "version": 3
   },
   "file_extension": ".py",
   "mimetype": "text/x-python",
   "name": "python",
   "nbconvert_exporter": "python",
   "pygments_lexer": "ipython3",
   "version": "3.9.13"
  }
 },
 "nbformat": 4,
 "nbformat_minor": 5
}
