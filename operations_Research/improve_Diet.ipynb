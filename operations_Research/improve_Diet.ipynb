{
 "cells": [
  {
   "cell_type": "code",
   "execution_count": 1,
   "id": "7a1b66ce",
   "metadata": {},
   "outputs": [],
   "source": [
    "from coptpy import *"
   ]
  },
  {
   "cell_type": "code",
   "execution_count": 2,
   "id": "5b05154d",
   "metadata": {},
   "outputs": [
    {
     "name": "stdout",
     "output_type": "stream",
     "text": [
      "Cardinal Optimizer v7.2.9. Build date Jun 20 2025\n",
      "Copyright Cardinal Operations 2025. All Rights Reserved\n",
      "\n"
     ]
    }
   ],
   "source": [
    "env = Envr()\n",
    "\n",
    "model = env.createModel('name=Diet_imporve')"
   ]
  },
  {
   "cell_type": "code",
   "execution_count": 3,
   "id": "a5c52f39",
   "metadata": {},
   "outputs": [],
   "source": [
    "nutrition,minN,maxN=multidict({\n",
    "    'Vitamin A':[1000,20000],\n",
    "    'Vitamin C':[1000,20000],\n",
    "    'Vitamin B1':[700,10000],\n",
    "    'Vitamin B2':[700,10000],    \n",
    "})"
   ]
  },
  {
   "cell_type": "code",
   "execution_count": 4,
   "id": "fcc70147",
   "metadata": {},
   "outputs": [],
   "source": [
    "foods, cost = multidict({\n",
    "    'BEEF': 3.19,\n",
    "    'CHK':  2.59,\n",
    "    'FISH': 2.29,\n",
    "    'HAM':  2.89,\n",
    "    'MCH':  1.89,\n",
    "    'MTL':  1.99,\n",
    "    'SPG':  1.99,\n",
    "    'TUR':  2.49})"
   ]
  },
  {
   "cell_type": "code",
   "execution_count": 5,
   "id": "2dcf8e93",
   "metadata": {},
   "outputs": [],
   "source": [
    "nutritionValues = {\n",
    "    ('BEEF', 'Vitamin A'):  60,\n",
    "    ('BEEF', 'Vitamin C'):  20,\n",
    "    ('BEEF', 'Vitamin B1'): 10,\n",
    "    ('BEEF', 'Vitamin B2'): 15,\n",
    "    ('CHK', 'Vitamin A'):   8,\n",
    "    ('CHK', 'Vitamin C'):   0,\n",
    "    ('CHK', 'Vitamin B1'):  20,\n",
    "    ('CHK', 'Vitamin B2'):  20,\n",
    "    ('FISH', 'Vitamin A'):  8,\n",
    "    ('FISH', 'Vitamin C'):  10,\n",
    "    ('FISH', 'Vitamin B1'): 15,\n",
    "    ('FISH', 'Vitamin B2'): 10,\n",
    "    ('HAM', 'Vitamin A'):   40,\n",
    "    ('HAM', 'Vitamin C'):   40,\n",
    "    ('HAM', 'Vitamin B1'):  35,\n",
    "    ('HAM', 'Vitamin B2'):  10,\n",
    "    ('MCH', 'Vitamin A'):   15,\n",
    "    ('MCH', 'Vitamin C'):   35,\n",
    "    ('MCH', 'Vitamin B1'):  15,\n",
    "    ('MCH', 'Vitamin B2'):  15,\n",
    "    ('MTL', 'Vitamin A'):   70,\n",
    "    ('MTL', 'Vitamin C'):   30,\n",
    "    ('MTL', 'Vitamin B1'):  15,\n",
    "    ('MTL', 'Vitamin B2'):  15,\n",
    "    ('SPG', 'Vitamin A'):   25,\n",
    "    ('SPG', 'Vitamin C'):   50,\n",
    "    ('SPG', 'Vitamin B1'):  25,\n",
    "    ('SPG', 'Vitamin B2'):  15,\n",
    "    ('TUR', 'Vitamin A'):   60,\n",
    "    ('TUR', 'Vitamin C'):   20,\n",
    "    ('TUR', 'Vitamin B1'):  15,\n",
    "    ('TUR', 'Vitamin B2'):  10}"
   ]
  },
  {
   "cell_type": "code",
   "execution_count": 6,
   "id": "5ddb7182",
   "metadata": {},
   "outputs": [],
   "source": [
    "buy = model.addVars(foods)"
   ]
  },
  {
   "cell_type": "code",
   "execution_count": 10,
   "id": "a97edfbd",
   "metadata": {},
   "outputs": [],
   "source": [
    "for n in nutrition:\n",
    "    model.addBoundConstr(quicksum(nutritionValues[f,n]*buy[f]  for f in foods),\n",
    "                   minN[n],maxN[n],'n' )"
   ]
  },
  {
   "cell_type": "code",
   "execution_count": 11,
   "id": "770c0f44",
   "metadata": {},
   "outputs": [],
   "source": [
    "for f in buy:\n",
    "    model.addBoundConstr(buy[f],2,15,'f')"
   ]
  },
  {
   "cell_type": "code",
   "execution_count": 13,
   "id": "766bada4",
   "metadata": {},
   "outputs": [],
   "source": [
    "model.setObjective(quicksum(cost[f]*buy[f] for f in foods)  ,sense=COPT.MINIMIZE)"
   ]
  },
  {
   "cell_type": "code",
   "execution_count": 14,
   "id": "dce46e4e",
   "metadata": {},
   "outputs": [
    {
     "name": "stdout",
     "output_type": "stream",
     "text": [
      "Model fingerprint: c77e0e55\n",
      "\n",
      "Using Cardinal Optimizer v7.2.9 on Windows\n",
      "Hardware has 6 cores and 12 threads. Using instruction set X86_NATIVE (1)\n",
      "Minimizing an LP problem\n",
      "\n",
      "The original problem has:\n",
      "    12 rows, 8 columns and 39 non-zero elements\n",
      "The presolved problem has:\n",
      "    4 rows, 8 columns and 31 non-zero elements\n",
      "\n",
      "Starting the simplex solver using up to 8 threads\n",
      "\n",
      "Method   Iteration           Objective  Primal.NInf   Dual.NInf        Time\n",
      "Dual             0    3.8642498518e+01            4           0       0.01s\n",
      "Dual             3    1.0027461109e+02            0           0       0.01s\n",
      "Postsolving\n",
      "Dual             3    1.0027020437e+02            0           0       0.01s\n",
      "\n",
      "Solving finished\n",
      "Status: Optimal  Objective: 1.0027020437e+02  Iterations: 3  Time: 0.01s\n"
     ]
    }
   ],
   "source": [
    "model.solve()"
   ]
  },
  {
   "cell_type": "code",
   "execution_count": 15,
   "id": "3a0a64cd",
   "metadata": {},
   "outputs": [
    {
     "name": "stdout",
     "output_type": "stream",
     "text": [
      "initiall costs :\n",
      "100.27020437262358\n"
     ]
    }
   ],
   "source": [
    "print(\"initiall costs :\")\n",
    "print(model.objval)"
   ]
  },
  {
   "cell_type": "code",
   "execution_count": 16,
   "id": "520a0a4c",
   "metadata": {},
   "outputs": [
    {
     "name": "stdout",
     "output_type": "stream",
     "text": [
      "varC(BEEF) buy2.0000\n",
      "varC(CHK) buy13.8389\n",
      "varC(FISH) buy2.0000\n",
      "varC(HAM) buy2.0000\n",
      "varC(MCH) buy15.0000\n",
      "varC(MTL) buy3.2871\n",
      "varC(SPG) buy3.9278\n",
      "varC(TUR) buy2.0000\n"
     ]
    }
   ],
   "source": [
    "for var in model.getVars():\n",
    "    print(\"var{0} buy{1:.4f}\".format(var.name,var.value))"
   ]
  },
  {
   "cell_type": "code",
   "execution_count": 21,
   "id": "7fff1176",
   "metadata": {},
   "outputs": [
    {
     "name": "stdout",
     "output_type": "stream",
     "text": [
      "模型所有决策变量的基状态：\n",
      "\n",
      "决策变量：C(BEEF)，最优值：2.000000，基状态为：1\n",
      "决策变量：C(CHK)，最优值：13.838878，基状态为：1\n",
      "决策变量：C(FISH)，最优值：2.000000，基状态为：1\n",
      "决策变量：C(HAM)，最优值：2.000000，基状态为：1\n",
      "决策变量：C(MCH)，最优值：15.000000，基状态为：1\n",
      "决策变量：C(MTL)，最优值：3.287072，基状态为：1\n",
      "决策变量：C(SPG)，最优值：3.927757，基状态为：1\n",
      "决策变量：C(TUR)，最优值：2.000000，基状态为：1\n"
     ]
    }
   ],
   "source": [
    "print(\"模型所有决策变量的基状态：\\n\")\n",
    "for var,var_ba in zip(model.getVars(), model.getVarBasis()):\n",
    "    print(\"决策变量：{0}，最优值：{1:4f}，基状态为：{2}\".format(var.name, var.x, var_ba))"
   ]
  },
  {
   "cell_type": "code",
   "execution_count": 4,
   "id": "820783d7",
   "metadata": {},
   "outputs": [],
   "source": [
    "#在约束表达式中的系数\n",
    "# Describe model parameters\n",
    "# Constraint Bound\n",
    "nutrition, minNutrition, maxNutrition = multidict({\n",
    "    'Vitamin A':  [700, 10000],\n",
    "    'Vitamin C':  [700, 10000],\n",
    "    'Vitamin B1': [700, 10000],\n",
    "    'Vitamin B2': [700, 10000],\n",
    "    'sodium': [0, 40000],\n",
    "    'calories': [16000, 24000]\n",
    "})\n",
    "\n",
    "# Cost info. of foods (obj coef)\n",
    "foods, cost = multidict({\n",
    "    'BEEF': 3.19,\n",
    "    'CHK':  2.59,\n",
    "    'FISH': 2.29,\n",
    "    'HAM':  2.89,\n",
    "    'MCH':  1.89,\n",
    "    'MTL':  1.99,\n",
    "    'SPG':  1.99,\n",
    "    'TUR':  2.49})\n",
    "\n",
    "# Nutrition values for the foods\n",
    "nutri_values_list = [60,20,10,15,938,295,8,0,20,20,2180,770,8,10,15,10,945,440,40,40,35,10,278,430,\n",
    "                     15,35,15,15,1182,315,70,30,15,15,896,400,25,50,25,15,1329,370,60,20,15,10,1397,450]"
   ]
  },
  {
   "cell_type": "code",
   "execution_count": 5,
   "id": "6fd557f4",
   "metadata": {},
   "outputs": [
    {
     "data": {
      "text/plain": [
       "[('BEEF', 'Vitamin A'),\n",
       " ('BEEF', 'Vitamin C'),\n",
       " ('BEEF', 'Vitamin B1'),\n",
       " ('BEEF', 'Vitamin B2'),\n",
       " ('BEEF', 'sodium'),\n",
       " ('BEEF', 'calories'),\n",
       " ('CHK', 'Vitamin A'),\n",
       " ('CHK', 'Vitamin C'),\n",
       " ('CHK', 'Vitamin B1'),\n",
       " ('CHK', 'Vitamin B2'),\n",
       " ('CHK', 'sodium'),\n",
       " ('CHK', 'calories'),\n",
       " ('FISH', 'Vitamin A'),\n",
       " ('FISH', 'Vitamin C'),\n",
       " ('FISH', 'Vitamin B1'),\n",
       " ('FISH', 'Vitamin B2'),\n",
       " ('FISH', 'sodium'),\n",
       " ('FISH', 'calories'),\n",
       " ('HAM', 'Vitamin A'),\n",
       " ('HAM', 'Vitamin C'),\n",
       " ('HAM', 'Vitamin B1'),\n",
       " ('HAM', 'Vitamin B2'),\n",
       " ('HAM', 'sodium'),\n",
       " ('HAM', 'calories'),\n",
       " ('MCH', 'Vitamin A'),\n",
       " ('MCH', 'Vitamin C'),\n",
       " ('MCH', 'Vitamin B1'),\n",
       " ('MCH', 'Vitamin B2'),\n",
       " ('MCH', 'sodium'),\n",
       " ('MCH', 'calories'),\n",
       " ('MTL', 'Vitamin A'),\n",
       " ('MTL', 'Vitamin C'),\n",
       " ('MTL', 'Vitamin B1'),\n",
       " ('MTL', 'Vitamin B2'),\n",
       " ('MTL', 'sodium'),\n",
       " ('MTL', 'calories'),\n",
       " ('SPG', 'Vitamin A'),\n",
       " ('SPG', 'Vitamin C'),\n",
       " ('SPG', 'Vitamin B1'),\n",
       " ('SPG', 'Vitamin B2'),\n",
       " ('SPG', 'sodium'),\n",
       " ('SPG', 'calories'),\n",
       " ('TUR', 'Vitamin A'),\n",
       " ('TUR', 'Vitamin C'),\n",
       " ('TUR', 'Vitamin B1'),\n",
       " ('TUR', 'Vitamin B2'),\n",
       " ('TUR', 'sodium'),\n",
       " ('TUR', 'calories')]"
      ]
     },
     "execution_count": 5,
     "metadata": {},
     "output_type": "execute_result"
    }
   ],
   "source": [
    "nutri_food=tuplelist()\n",
    "for each in itertools.product(foods,nutrition):\n",
    "    nutri_food.add(each)\n",
    "\n",
    "nutri_value=tupledict()"
   ]
  },
  {
   "cell_type": "code",
   "execution_count": null,
   "id": "2b5d31bf",
   "metadata": {},
   "outputs": [],
   "source": []
  }
 ],
 "metadata": {
  "kernelspec": {
   "display_name": "Python 3 (ipykernel)",
   "language": "python",
   "name": "python3"
  },
  "language_info": {
   "codemirror_mode": {
    "name": "ipython",
    "version": 3
   },
   "file_extension": ".py",
   "mimetype": "text/x-python",
   "name": "python",
   "nbconvert_exporter": "python",
   "pygments_lexer": "ipython3",
   "version": "3.9.13"
  }
 },
 "nbformat": 4,
 "nbformat_minor": 5
}
