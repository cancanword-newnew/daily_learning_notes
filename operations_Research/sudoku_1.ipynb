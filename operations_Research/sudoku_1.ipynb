{
 "cells": [
  {
   "cell_type": "code",
   "execution_count": 1,
   "id": "8c9f2f65",
   "metadata": {},
   "outputs": [
    {
     "name": "stdout",
     "output_type": "stream",
     "text": [
      "Cardinal Optimizer v7.2.9. Build date Jun 20 2025\n",
      "Copyright Cardinal Operations 2025. All Rights Reserved\n",
      "\n",
      "Model fingerprint: d4524c78\n",
      "\n",
      "Using Cardinal Optimizer v7.2.9 on Windows\n",
      "Hardware has 6 cores and 12 threads. Using instruction set X86_NATIVE (1)\n",
      "Minimizing a MIP problem\n",
      "\n",
      "The original problem has:\n",
      "    352 rows, 729 columns and 2944 non-zero elements\n",
      "    729 binaries\n",
      "\n",
      "Starting the MIP solver with 12 threads and 32 tasks\n",
      "\n",
      "Presolving the problem\n",
      "Problem was solved during presolve\n",
      "\n",
      "Best solution   : 0.000000000\n",
      "Best bound      : 0.000000000\n",
      "Best gap        : 0.0000%\n",
      "Solve time      : 0.00\n",
      "Solve node      : 0\n",
      "MIP status      : solved\n",
      "Solution status : integer optimal (relative gap limit 0.0001)\n",
      "\n",
      "Violations      :     absolute     relative\n",
      "  bounds        :            0            0\n",
      "  rows          :            0            0\n",
      "  integrality   :            0\n"
     ]
    },
    {
     "data": {
      "text/plain": [
       "array([[8, 1, 7, 5, 4, 2, 9, 3, 6],\n",
       "       [2, 3, 9, 7, 8, 6, 4, 1, 5],\n",
       "       [5, 4, 6, 9, 1, 3, 8, 2, 7],\n",
       "       [1, 6, 2, 8, 5, 4, 3, 7, 9],\n",
       "       [9, 5, 8, 1, 3, 7, 6, 4, 2],\n",
       "       [4, 7, 3, 2, 6, 9, 1, 5, 8],\n",
       "       [3, 8, 4, 6, 7, 5, 2, 9, 1],\n",
       "       [7, 9, 1, 4, 2, 8, 5, 6, 3],\n",
       "       [6, 2, 5, 3, 9, 1, 7, 8, 4]])"
      ]
     },
     "execution_count": 1,
     "metadata": {},
     "output_type": "execute_result"
    }
   ],
   "source": [
    "from coptpy import *\n",
    "import pandas as pd\n",
    "import numpy as np\n",
    "\n",
    "env = Envr()\n",
    "model = env.createModel('sukudo')\n",
    "\n",
    "\n",
    "#clean the data\n",
    "sudoku_init=pd.read_csv(\"data\\sudoku1.csv\",dtype=int)\n",
    "sudoku_board=np.zeros([9,9],dtype=int)\n",
    "\n",
    "for index,r in sudoku_init.iterrows():\n",
    "        sudoku_board[r['row'],r['col']]=r['value']\n",
    "\n",
    "        \n",
    "#add Vars and Constrain of the question      \n",
    "x=model.addVars(9,9,9,vtype=COPT.BINARY)\n",
    "for i in range(9):\n",
    "    for j in range(9):\n",
    "        if sudoku_board[i,j]!=0:\n",
    "            model.addConstr(x[i,j,sudoku_board[i,j]-1]==1)\n",
    "for row in range(9):\n",
    "    for col in range(9):\n",
    "        model.addConstr(\n",
    "            quicksum(x[row,col,num]for num in range(9)\n",
    "                    )==1)\n",
    "\n",
    "for row in range(9):\n",
    "    for num in range(9):\n",
    "        model.addConstr(quicksum(x[row,col,num]for col in range(9))==1)\n",
    "\n",
    "for num in range(9):\n",
    "    for col in range(9):\n",
    "        model.addConstr(quicksum(x[row,col,num]for row in range(9))==1)\n",
    "\n",
    "for i in range(3):\n",
    "    for j in range(3):\n",
    "        for num in range(9):\n",
    "            model.addConstr(\n",
    "                x.sum(range(3*i,3*i+3)  ,   range(3*j,3*j+3) ,num       )   ==1)\n",
    "\n",
    "model.solve()\n",
    "\n",
    "#print the result\n",
    "for row in range(9):\n",
    "    for col in range(9):\n",
    "        for num in range(9):\n",
    "            if x[row,col,num].X>0.5:\n",
    "                sudoku_board[row,col]=num+1\n",
    "sudoku_board"
   ]
  }
 ],
 "metadata": {
  "kernelspec": {
   "display_name": "Python 3 (ipykernel)",
   "language": "python",
   "name": "python3"
  },
  "language_info": {
   "codemirror_mode": {
    "name": "ipython",
    "version": 3
   },
   "file_extension": ".py",
   "mimetype": "text/x-python",
   "name": "python",
   "nbconvert_exporter": "python",
   "pygments_lexer": "ipython3",
   "version": "3.9.13"
  }
 },
 "nbformat": 4,
 "nbformat_minor": 5
}
