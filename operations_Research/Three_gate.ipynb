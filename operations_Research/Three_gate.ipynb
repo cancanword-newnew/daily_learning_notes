{
 "cells": [
  {
   "cell_type": "code",
   "execution_count": null,
   "id": "26fa9e90",
   "metadata": {},
   "outputs": [],
   "source": [
    "import random"
   ]
  },
  {
   "cell_type": "code",
   "execution_count": 72,
   "id": "d77e4ab3",
   "metadata": {},
   "outputs": [
    {
     "name": "stdout",
     "output_type": "stream",
     "text": [
      "经过10000次三门问题选择，获奖次数为6618\n",
      "6618\n"
     ]
    }
   ],
   "source": [
    "def judge_gate(sel_gate,award_gate,num):\n",
    "        if sel_gate==award_gate:\n",
    "            num +=1\n",
    "        return num\n",
    "N=10000\n",
    "num=0\n",
    "for j in range(N):\n",
    "    nor_gate=[]\n",
    "    no_sel_gate=[]\n",
    "    plus_gate=[]\n",
    "\n",
    "    award_gate=random.randint(0,2)\n",
    "    # 获得没奖门\n",
    "    for i in range(3):\n",
    "        if i != award_gate:\n",
    "            nor_gate.append(i)\n",
    "    sel_gate=random.randint(0,2)\n",
    "    #没选择的门\n",
    "    for i in range(3):\n",
    "        if i !=sel_gate:\n",
    "            no_sel_gate.append(i)\n",
    "#没选择的门中没获奖的\n",
    "    plus_gate = [x for x in nor_gate if x in no_sel_gate]\n",
    "    if len(plus_gate)==1:\n",
    "        rem_gate=plus_gate[0]\n",
    "    else:\n",
    "        a=random.randint(0,1)\n",
    "        rem_gate=plus_gate[a]\n",
    "        \n",
    "    for i in range(3):\n",
    "        if i !=sel_gate:\n",
    "             if i !=rem_gate:\n",
    "                    sel_gate_1=i\n",
    "            \n",
    "\n",
    "    num=judge_gate(sel_gate_1,award_gate,num)\n",
    "\n",
    "print(\"经过{}次三门问题选择，获奖次数为{}\".format(N,num))\n"
   ]
  },
  {
   "cell_type": "code",
   "execution_count": null,
   "id": "de92cad4",
   "metadata": {},
   "outputs": [],
   "source": []
  }
 ],
 "metadata": {
  "kernelspec": {
   "display_name": "Python 3 (ipykernel)",
   "language": "python",
   "name": "python3"
  },
  "language_info": {
   "codemirror_mode": {
    "name": "ipython",
    "version": 3
   },
   "file_extension": ".py",
   "mimetype": "text/x-python",
   "name": "python",
   "nbconvert_exporter": "python",
   "pygments_lexer": "ipython3",
   "version": "3.9.13"
  }
 },
 "nbformat": 4,
 "nbformat_minor": 5
}
