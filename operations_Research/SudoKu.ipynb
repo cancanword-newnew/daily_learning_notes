{
 "cells": [
  {
   "cell_type": "code",
   "execution_count": 1,
   "id": "c0c7f171",
   "metadata": {},
   "outputs": [],
   "source": [
    "import gurobipy as gp\n",
    "from gurobipy import GRB\n",
    "import numpy as np\n",
    "import pandas as pd"
   ]
  },
  {
   "cell_type": "code",
   "execution_count": 2,
   "id": "e780049e",
   "metadata": {},
   "outputs": [
    {
     "data": {
      "text/plain": [
       "array([[0, 0, 0, 0, 0, 2, 9, 3, 0],\n",
       "       [0, 0, 0, 0, 0, 0, 0, 1, 5],\n",
       "       [0, 4, 6, 0, 0, 0, 0, 0, 7],\n",
       "       [0, 6, 0, 8, 0, 4, 0, 0, 9],\n",
       "       [0, 0, 8, 1, 0, 7, 6, 0, 0],\n",
       "       [4, 0, 0, 2, 0, 9, 0, 5, 0],\n",
       "       [3, 0, 0, 0, 0, 0, 2, 9, 0],\n",
       "       [7, 9, 0, 0, 0, 0, 0, 0, 0],\n",
       "       [0, 2, 5, 3, 0, 0, 0, 0, 0]])"
      ]
     },
     "execution_count": 2,
     "metadata": {},
     "output_type": "execute_result"
    }
   ],
   "source": [
    "# 数独棋盘大小\n",
    "N = 9\n",
    "n = 3\n",
    "\n",
    "# 数独棋盘初始化\n",
    "sudoku_info = np.loadtxt('data/Sudoku.csv',delimiter=',',dtype=int)\n",
    "sudoku_info"
   ]
  },
  {
   "cell_type": "code",
   "execution_count": 3,
   "id": "c6649121",
   "metadata": {},
   "outputs": [
    {
     "name": "stdout",
     "output_type": "stream",
     "text": [
      "|0 0 0|0 0 2|9 3 0|\n",
      "|0 0 0|0 0 0|0 1 5|\n",
      "|0 4 6|0 0 0|0 0 7|\n",
      "-------------------\n",
      "|0 6 0|8 0 4|0 0 9|\n",
      "|0 0 8|1 0 7|6 0 0|\n",
      "|4 0 0|2 0 9|0 5 0|\n",
      "-------------------\n",
      "|3 0 0|0 0 0|2 9 0|\n",
      "|7 9 0|0 0 0|0 0 0|\n",
      "|0 2 5|3 0 0|0 0 0|\n"
     ]
    }
   ],
   "source": [
    "\n",
    "\n",
    "def print_board(board): \n",
    "    row, col = 9,9\n",
    "    for i in range(row):\n",
    "        print_row = ''\n",
    "        for j in range(col):\n",
    "            sep = ' ' if j%3 != 0 else'|'\n",
    "            print_row += '{}{}'.format(sep, board[i,j])\n",
    "        print_row += '|'\n",
    "        print(print_row)\n",
    "        if (i+1)%3 == 0 and i != row-1:\n",
    "            print('-'*len(print_row))\n",
    "        \n",
    "print_board(sudoku_info)"
   ]
  },
  {
   "cell_type": "markdown",
   "id": "09c1955d",
   "metadata": {},
   "source": [
    "# Gurobi"
   ]
  },
  {
   "cell_type": "code",
   "execution_count": 4,
   "id": "153eeaa3",
   "metadata": {},
   "outputs": [
    {
     "name": "stdout",
     "output_type": "stream",
     "text": [
      "Set parameter Username\n",
      "Set parameter LicenseID to value 2684323\n",
      "Academic license - for non-commercial use only - expires 2026-07-03\n"
     ]
    }
   ],
   "source": [
    "model=gp.Model(\"sudoku\")"
   ]
  },
  {
   "cell_type": "code",
   "execution_count": 5,
   "id": "b23fec17",
   "metadata": {},
   "outputs": [
    {
     "name": "stdout",
     "output_type": "stream",
     "text": [
      "{(0, 0, 0): <gurobi.Var *Awaiting Model Update*>, (0, 0, 1): <gurobi.Var *Awaiting Model Update*>, (0, 0, 2): <gurobi.Var *Awaiting Model Update*>, (0, 0, 3): <gurobi.Var *Awaiting Model Update*>, (0, 0, 4): <gurobi.Var *Awaiting Model Update*>, (0, 0, 5): <gurobi.Var *Awaiting Model Update*>, (0, 0, 6): <gurobi.Var *Awaiting Model Update*>, (0, 0, 7): <gurobi.Var *Awaiting Model Update*>, (0, 0, 8): <gurobi.Var *Awaiting Model Update*>, (0, 1, 0): <gurobi.Var *Awaiting Model Update*>, (0, 1, 1): <gurobi.Var *Awaiting Model Update*>, (0, 1, 2): <gurobi.Var *Awaiting Model Update*>, (0, 1, 3): <gurobi.Var *Awaiting Model Update*>, (0, 1, 4): <gurobi.Var *Awaiting Model Update*>, (0, 1, 5): <gurobi.Var *Awaiting Model Update*>, (0, 1, 6): <gurobi.Var *Awaiting Model Update*>, (0, 1, 7): <gurobi.Var *Awaiting Model Update*>, (0, 1, 8): <gurobi.Var *Awaiting Model Update*>, (0, 2, 0): <gurobi.Var *Awaiting Model Update*>, (0, 2, 1): <gurobi.Var *Awaiting Model Update*>, (0, 2, 2): <gurobi.Var *Awaiting Model Update*>, (0, 2, 3): <gurobi.Var *Awaiting Model Update*>, (0, 2, 4): <gurobi.Var *Awaiting Model Update*>, (0, 2, 5): <gurobi.Var *Awaiting Model Update*>, (0, 2, 6): <gurobi.Var *Awaiting Model Update*>, (0, 2, 7): <gurobi.Var *Awaiting Model Update*>, (0, 2, 8): <gurobi.Var *Awaiting Model Update*>, (0, 3, 0): <gurobi.Var *Awaiting Model Update*>, (0, 3, 1): <gurobi.Var *Awaiting Model Update*>, (0, 3, 2): <gurobi.Var *Awaiting Model Update*>, (0, 3, 3): <gurobi.Var *Awaiting Model Update*>, (0, 3, 4): <gurobi.Var *Awaiting Model Update*>, (0, 3, 5): <gurobi.Var *Awaiting Model Update*>, (0, 3, 6): <gurobi.Var *Awaiting Model Update*>, (0, 3, 7): <gurobi.Var *Awaiting Model Update*>, (0, 3, 8): <gurobi.Var *Awaiting Model Update*>, (0, 4, 0): <gurobi.Var *Awaiting Model Update*>, (0, 4, 1): <gurobi.Var *Awaiting Model Update*>, (0, 4, 2): <gurobi.Var *Awaiting Model Update*>, (0, 4, 3): <gurobi.Var *Awaiting Model Update*>, (0, 4, 4): <gurobi.Var *Awaiting Model Update*>, (0, 4, 5): <gurobi.Var *Awaiting Model Update*>, (0, 4, 6): <gurobi.Var *Awaiting Model Update*>, (0, 4, 7): <gurobi.Var *Awaiting Model Update*>, (0, 4, 8): <gurobi.Var *Awaiting Model Update*>, (0, 5, 0): <gurobi.Var *Awaiting Model Update*>, (0, 5, 1): <gurobi.Var *Awaiting Model Update*>, (0, 5, 2): <gurobi.Var *Awaiting Model Update*>, (0, 5, 3): <gurobi.Var *Awaiting Model Update*>, (0, 5, 4): <gurobi.Var *Awaiting Model Update*>, (0, 5, 5): <gurobi.Var *Awaiting Model Update*>, (0, 5, 6): <gurobi.Var *Awaiting Model Update*>, (0, 5, 7): <gurobi.Var *Awaiting Model Update*>, (0, 5, 8): <gurobi.Var *Awaiting Model Update*>, (0, 6, 0): <gurobi.Var *Awaiting Model Update*>, (0, 6, 1): <gurobi.Var *Awaiting Model Update*>, (0, 6, 2): <gurobi.Var *Awaiting Model Update*>, (0, 6, 3): <gurobi.Var *Awaiting Model Update*>, (0, 6, 4): <gurobi.Var *Awaiting Model Update*>, (0, 6, 5): <gurobi.Var *Awaiting Model Update*>, (0, 6, 6): <gurobi.Var *Awaiting Model Update*>, (0, 6, 7): <gurobi.Var *Awaiting Model Update*>, (0, 6, 8): <gurobi.Var *Awaiting Model Update*>, (0, 7, 0): <gurobi.Var *Awaiting Model Update*>, (0, 7, 1): <gurobi.Var *Awaiting Model Update*>, (0, 7, 2): <gurobi.Var *Awaiting Model Update*>, (0, 7, 3): <gurobi.Var *Awaiting Model Update*>, (0, 7, 4): <gurobi.Var *Awaiting Model Update*>, (0, 7, 5): <gurobi.Var *Awaiting Model Update*>, (0, 7, 6): <gurobi.Var *Awaiting Model Update*>, (0, 7, 7): <gurobi.Var *Awaiting Model Update*>, (0, 7, 8): <gurobi.Var *Awaiting Model Update*>, (0, 8, 0): <gurobi.Var *Awaiting Model Update*>, (0, 8, 1): <gurobi.Var *Awaiting Model Update*>, (0, 8, 2): <gurobi.Var *Awaiting Model Update*>, (0, 8, 3): <gurobi.Var *Awaiting Model Update*>, (0, 8, 4): <gurobi.Var *Awaiting Model Update*>, (0, 8, 5): <gurobi.Var *Awaiting Model Update*>, (0, 8, 6): <gurobi.Var *Awaiting Model Update*>, (0, 8, 7): <gurobi.Var *Awaiting Model Update*>, (0, 8, 8): <gurobi.Var *Awaiting Model Update*>, (1, 0, 0): <gurobi.Var *Awaiting Model Update*>, (1, 0, 1): <gurobi.Var *Awaiting Model Update*>, (1, 0, 2): <gurobi.Var *Awaiting Model Update*>, (1, 0, 3): <gurobi.Var *Awaiting Model Update*>, (1, 0, 4): <gurobi.Var *Awaiting Model Update*>, (1, 0, 5): <gurobi.Var *Awaiting Model Update*>, (1, 0, 6): <gurobi.Var *Awaiting Model Update*>, (1, 0, 7): <gurobi.Var *Awaiting Model Update*>, (1, 0, 8): <gurobi.Var *Awaiting Model Update*>, (1, 1, 0): <gurobi.Var *Awaiting Model Update*>, (1, 1, 1): <gurobi.Var *Awaiting Model Update*>, (1, 1, 2): <gurobi.Var *Awaiting Model Update*>, (1, 1, 3): <gurobi.Var *Awaiting Model Update*>, (1, 1, 4): <gurobi.Var *Awaiting Model Update*>, (1, 1, 5): <gurobi.Var *Awaiting Model Update*>, (1, 1, 6): <gurobi.Var *Awaiting Model Update*>, (1, 1, 7): <gurobi.Var *Awaiting Model Update*>, (1, 1, 8): <gurobi.Var *Awaiting Model Update*>, (1, 2, 0): <gurobi.Var *Awaiting Model Update*>, (1, 2, 1): <gurobi.Var *Awaiting Model Update*>, (1, 2, 2): <gurobi.Var *Awaiting Model Update*>, (1, 2, 3): <gurobi.Var *Awaiting Model Update*>, (1, 2, 4): <gurobi.Var *Awaiting Model Update*>, (1, 2, 5): <gurobi.Var *Awaiting Model Update*>, (1, 2, 6): <gurobi.Var *Awaiting Model Update*>, (1, 2, 7): <gurobi.Var *Awaiting Model Update*>, (1, 2, 8): <gurobi.Var *Awaiting Model Update*>, (1, 3, 0): <gurobi.Var *Awaiting Model Update*>, (1, 3, 1): <gurobi.Var *Awaiting Model Update*>, (1, 3, 2): <gurobi.Var *Awaiting Model Update*>, (1, 3, 3): <gurobi.Var *Awaiting Model Update*>, (1, 3, 4): <gurobi.Var *Awaiting Model Update*>, (1, 3, 5): <gurobi.Var *Awaiting Model Update*>, (1, 3, 6): <gurobi.Var *Awaiting Model Update*>, (1, 3, 7): <gurobi.Var *Awaiting Model Update*>, (1, 3, 8): <gurobi.Var *Awaiting Model Update*>, (1, 4, 0): <gurobi.Var *Awaiting Model Update*>, (1, 4, 1): <gurobi.Var *Awaiting Model Update*>, (1, 4, 2): <gurobi.Var *Awaiting Model Update*>, (1, 4, 3): <gurobi.Var *Awaiting Model Update*>, (1, 4, 4): <gurobi.Var *Awaiting Model Update*>, (1, 4, 5): <gurobi.Var *Awaiting Model Update*>, (1, 4, 6): <gurobi.Var *Awaiting Model Update*>, (1, 4, 7): <gurobi.Var *Awaiting Model Update*>, (1, 4, 8): <gurobi.Var *Awaiting Model Update*>, (1, 5, 0): <gurobi.Var *Awaiting Model Update*>, (1, 5, 1): <gurobi.Var *Awaiting Model Update*>, (1, 5, 2): <gurobi.Var *Awaiting Model Update*>, (1, 5, 3): <gurobi.Var *Awaiting Model Update*>, (1, 5, 4): <gurobi.Var *Awaiting Model Update*>, (1, 5, 5): <gurobi.Var *Awaiting Model Update*>, (1, 5, 6): <gurobi.Var *Awaiting Model Update*>, (1, 5, 7): <gurobi.Var *Awaiting Model Update*>, (1, 5, 8): <gurobi.Var *Awaiting Model Update*>, (1, 6, 0): <gurobi.Var *Awaiting Model Update*>, (1, 6, 1): <gurobi.Var *Awaiting Model Update*>, (1, 6, 2): <gurobi.Var *Awaiting Model Update*>, (1, 6, 3): <gurobi.Var *Awaiting Model Update*>, (1, 6, 4): <gurobi.Var *Awaiting Model Update*>, (1, 6, 5): <gurobi.Var *Awaiting Model Update*>, (1, 6, 6): <gurobi.Var *Awaiting Model Update*>, (1, 6, 7): <gurobi.Var *Awaiting Model Update*>, (1, 6, 8): <gurobi.Var *Awaiting Model Update*>, (1, 7, 0): <gurobi.Var *Awaiting Model Update*>, (1, 7, 1): <gurobi.Var *Awaiting Model Update*>, (1, 7, 2): <gurobi.Var *Awaiting Model Update*>, (1, 7, 3): <gurobi.Var *Awaiting Model Update*>, (1, 7, 4): <gurobi.Var *Awaiting Model Update*>, (1, 7, 5): <gurobi.Var *Awaiting Model Update*>, (1, 7, 6): <gurobi.Var *Awaiting Model Update*>, (1, 7, 7): <gurobi.Var *Awaiting Model Update*>, (1, 7, 8): <gurobi.Var *Awaiting Model Update*>, (1, 8, 0): <gurobi.Var *Awaiting Model Update*>, (1, 8, 1): <gurobi.Var *Awaiting Model Update*>, (1, 8, 2): <gurobi.Var *Awaiting Model Update*>, (1, 8, 3): <gurobi.Var *Awaiting Model Update*>, (1, 8, 4): <gurobi.Var *Awaiting Model Update*>, (1, 8, 5): <gurobi.Var *Awaiting Model Update*>, (1, 8, 6): <gurobi.Var *Awaiting Model Update*>, (1, 8, 7): <gurobi.Var *Awaiting Model Update*>, (1, 8, 8): <gurobi.Var *Awaiting Model Update*>, (2, 0, 0): <gurobi.Var *Awaiting Model Update*>, (2, 0, 1): <gurobi.Var *Awaiting Model Update*>, (2, 0, 2): <gurobi.Var *Awaiting Model Update*>, (2, 0, 3): <gurobi.Var *Awaiting Model Update*>, (2, 0, 4): <gurobi.Var *Awaiting Model Update*>, (2, 0, 5): <gurobi.Var *Awaiting Model Update*>, (2, 0, 6): <gurobi.Var *Awaiting Model Update*>, (2, 0, 7): <gurobi.Var *Awaiting Model Update*>, (2, 0, 8): <gurobi.Var *Awaiting Model Update*>, (2, 1, 0): <gurobi.Var *Awaiting Model Update*>, (2, 1, 1): <gurobi.Var *Awaiting Model Update*>, (2, 1, 2): <gurobi.Var *Awaiting Model Update*>, (2, 1, 3): <gurobi.Var *Awaiting Model Update*>, (2, 1, 4): <gurobi.Var *Awaiting Model Update*>, (2, 1, 5): <gurobi.Var *Awaiting Model Update*>, (2, 1, 6): <gurobi.Var *Awaiting Model Update*>, (2, 1, 7): <gurobi.Var *Awaiting Model Update*>, (2, 1, 8): <gurobi.Var *Awaiting Model Update*>, (2, 2, 0): <gurobi.Var *Awaiting Model Update*>, (2, 2, 1): <gurobi.Var *Awaiting Model Update*>, (2, 2, 2): <gurobi.Var *Awaiting Model Update*>, (2, 2, 3): <gurobi.Var *Awaiting Model Update*>, (2, 2, 4): <gurobi.Var *Awaiting Model Update*>, (2, 2, 5): <gurobi.Var *Awaiting Model Update*>, (2, 2, 6): <gurobi.Var *Awaiting Model Update*>, (2, 2, 7): <gurobi.Var *Awaiting Model Update*>, (2, 2, 8): <gurobi.Var *Awaiting Model Update*>, (2, 3, 0): <gurobi.Var *Awaiting Model Update*>, (2, 3, 1): <gurobi.Var *Awaiting Model Update*>, (2, 3, 2): <gurobi.Var *Awaiting Model Update*>, (2, 3, 3): <gurobi.Var *Awaiting Model Update*>, (2, 3, 4): <gurobi.Var *Awaiting Model Update*>, (2, 3, 5): <gurobi.Var *Awaiting Model Update*>, (2, 3, 6): <gurobi.Var *Awaiting Model Update*>, (2, 3, 7): <gurobi.Var *Awaiting Model Update*>, (2, 3, 8): <gurobi.Var *Awaiting Model Update*>, (2, 4, 0): <gurobi.Var *Awaiting Model Update*>, (2, 4, 1): <gurobi.Var *Awaiting Model Update*>, (2, 4, 2): <gurobi.Var *Awaiting Model Update*>, (2, 4, 3): <gurobi.Var *Awaiting Model Update*>, (2, 4, 4): <gurobi.Var *Awaiting Model Update*>, (2, 4, 5): <gurobi.Var *Awaiting Model Update*>, (2, 4, 6): <gurobi.Var *Awaiting Model Update*>, (2, 4, 7): <gurobi.Var *Awaiting Model Update*>, (2, 4, 8): <gurobi.Var *Awaiting Model Update*>, (2, 5, 0): <gurobi.Var *Awaiting Model Update*>, (2, 5, 1): <gurobi.Var *Awaiting Model Update*>, (2, 5, 2): <gurobi.Var *Awaiting Model Update*>, (2, 5, 3): <gurobi.Var *Awaiting Model Update*>, (2, 5, 4): <gurobi.Var *Awaiting Model Update*>, (2, 5, 5): <gurobi.Var *Awaiting Model Update*>, (2, 5, 6): <gurobi.Var *Awaiting Model Update*>, (2, 5, 7): <gurobi.Var *Awaiting Model Update*>, (2, 5, 8): <gurobi.Var *Awaiting Model Update*>, (2, 6, 0): <gurobi.Var *Awaiting Model Update*>, (2, 6, 1): <gurobi.Var *Awaiting Model Update*>, (2, 6, 2): <gurobi.Var *Awaiting Model Update*>, (2, 6, 3): <gurobi.Var *Awaiting Model Update*>, (2, 6, 4): <gurobi.Var *Awaiting Model Update*>, (2, 6, 5): <gurobi.Var *Awaiting Model Update*>, (2, 6, 6): <gurobi.Var *Awaiting Model Update*>, (2, 6, 7): <gurobi.Var *Awaiting Model Update*>, (2, 6, 8): <gurobi.Var *Awaiting Model Update*>, (2, 7, 0): <gurobi.Var *Awaiting Model Update*>, (2, 7, 1): <gurobi.Var *Awaiting Model Update*>, (2, 7, 2): <gurobi.Var *Awaiting Model Update*>, (2, 7, 3): <gurobi.Var *Awaiting Model Update*>, (2, 7, 4): <gurobi.Var *Awaiting Model Update*>, (2, 7, 5): <gurobi.Var *Awaiting Model Update*>, (2, 7, 6): <gurobi.Var *Awaiting Model Update*>, (2, 7, 7): <gurobi.Var *Awaiting Model Update*>, (2, 7, 8): <gurobi.Var *Awaiting Model Update*>, (2, 8, 0): <gurobi.Var *Awaiting Model Update*>, (2, 8, 1): <gurobi.Var *Awaiting Model Update*>, (2, 8, 2): <gurobi.Var *Awaiting Model Update*>, (2, 8, 3): <gurobi.Var *Awaiting Model Update*>, (2, 8, 4): <gurobi.Var *Awaiting Model Update*>, (2, 8, 5): <gurobi.Var *Awaiting Model Update*>, (2, 8, 6): <gurobi.Var *Awaiting Model Update*>, (2, 8, 7): <gurobi.Var *Awaiting Model Update*>, (2, 8, 8): <gurobi.Var *Awaiting Model Update*>, (3, 0, 0): <gurobi.Var *Awaiting Model Update*>, (3, 0, 1): <gurobi.Var *Awaiting Model Update*>, (3, 0, 2): <gurobi.Var *Awaiting Model Update*>, (3, 0, 3): <gurobi.Var *Awaiting Model Update*>, (3, 0, 4): <gurobi.Var *Awaiting Model Update*>, (3, 0, 5): <gurobi.Var *Awaiting Model Update*>, (3, 0, 6): <gurobi.Var *Awaiting Model Update*>, (3, 0, 7): <gurobi.Var *Awaiting Model Update*>, (3, 0, 8): <gurobi.Var *Awaiting Model Update*>, (3, 1, 0): <gurobi.Var *Awaiting Model Update*>, (3, 1, 1): <gurobi.Var *Awaiting Model Update*>, (3, 1, 2): <gurobi.Var *Awaiting Model Update*>, (3, 1, 3): <gurobi.Var *Awaiting Model Update*>, (3, 1, 4): <gurobi.Var *Awaiting Model Update*>, (3, 1, 5): <gurobi.Var *Awaiting Model Update*>, (3, 1, 6): <gurobi.Var *Awaiting Model Update*>, (3, 1, 7): <gurobi.Var *Awaiting Model Update*>, (3, 1, 8): <gurobi.Var *Awaiting Model Update*>, (3, 2, 0): <gurobi.Var *Awaiting Model Update*>, (3, 2, 1): <gurobi.Var *Awaiting Model Update*>, (3, 2, 2): <gurobi.Var *Awaiting Model Update*>, (3, 2, 3): <gurobi.Var *Awaiting Model Update*>, (3, 2, 4): <gurobi.Var *Awaiting Model Update*>, (3, 2, 5): <gurobi.Var *Awaiting Model Update*>, (3, 2, 6): <gurobi.Var *Awaiting Model Update*>, (3, 2, 7): <gurobi.Var *Awaiting Model Update*>, (3, 2, 8): <gurobi.Var *Awaiting Model Update*>, (3, 3, 0): <gurobi.Var *Awaiting Model Update*>, (3, 3, 1): <gurobi.Var *Awaiting Model Update*>, (3, 3, 2): <gurobi.Var *Awaiting Model Update*>, (3, 3, 3): <gurobi.Var *Awaiting Model Update*>, (3, 3, 4): <gurobi.Var *Awaiting Model Update*>, (3, 3, 5): <gurobi.Var *Awaiting Model Update*>, (3, 3, 6): <gurobi.Var *Awaiting Model Update*>, (3, 3, 7): <gurobi.Var *Awaiting Model Update*>, (3, 3, 8): <gurobi.Var *Awaiting Model Update*>, (3, 4, 0): <gurobi.Var *Awaiting Model Update*>, (3, 4, 1): <gurobi.Var *Awaiting Model Update*>, (3, 4, 2): <gurobi.Var *Awaiting Model Update*>, (3, 4, 3): <gurobi.Var *Awaiting Model Update*>, (3, 4, 4): <gurobi.Var *Awaiting Model Update*>, (3, 4, 5): <gurobi.Var *Awaiting Model Update*>, (3, 4, 6): <gurobi.Var *Awaiting Model Update*>, (3, 4, 7): <gurobi.Var *Awaiting Model Update*>, (3, 4, 8): <gurobi.Var *Awaiting Model Update*>, (3, 5, 0): <gurobi.Var *Awaiting Model Update*>, (3, 5, 1): <gurobi.Var *Awaiting Model Update*>, (3, 5, 2): <gurobi.Var *Awaiting Model Update*>, (3, 5, 3): <gurobi.Var *Awaiting Model Update*>, (3, 5, 4): <gurobi.Var *Awaiting Model Update*>, (3, 5, 5): <gurobi.Var *Awaiting Model Update*>, (3, 5, 6): <gurobi.Var *Awaiting Model Update*>, (3, 5, 7): <gurobi.Var *Awaiting Model Update*>, (3, 5, 8): <gurobi.Var *Awaiting Model Update*>, (3, 6, 0): <gurobi.Var *Awaiting Model Update*>, (3, 6, 1): <gurobi.Var *Awaiting Model Update*>, (3, 6, 2): <gurobi.Var *Awaiting Model Update*>, (3, 6, 3): <gurobi.Var *Awaiting Model Update*>, (3, 6, 4): <gurobi.Var *Awaiting Model Update*>, (3, 6, 5): <gurobi.Var *Awaiting Model Update*>, (3, 6, 6): <gurobi.Var *Awaiting Model Update*>, (3, 6, 7): <gurobi.Var *Awaiting Model Update*>, (3, 6, 8): <gurobi.Var *Awaiting Model Update*>, (3, 7, 0): <gurobi.Var *Awaiting Model Update*>, (3, 7, 1): <gurobi.Var *Awaiting Model Update*>, (3, 7, 2): <gurobi.Var *Awaiting Model Update*>, (3, 7, 3): <gurobi.Var *Awaiting Model Update*>, (3, 7, 4): <gurobi.Var *Awaiting Model Update*>, (3, 7, 5): <gurobi.Var *Awaiting Model Update*>, (3, 7, 6): <gurobi.Var *Awaiting Model Update*>, (3, 7, 7): <gurobi.Var *Awaiting Model Update*>, (3, 7, 8): <gurobi.Var *Awaiting Model Update*>, (3, 8, 0): <gurobi.Var *Awaiting Model Update*>, (3, 8, 1): <gurobi.Var *Awaiting Model Update*>, (3, 8, 2): <gurobi.Var *Awaiting Model Update*>, (3, 8, 3): <gurobi.Var *Awaiting Model Update*>, (3, 8, 4): <gurobi.Var *Awaiting Model Update*>, (3, 8, 5): <gurobi.Var *Awaiting Model Update*>, (3, 8, 6): <gurobi.Var *Awaiting Model Update*>, (3, 8, 7): <gurobi.Var *Awaiting Model Update*>, (3, 8, 8): <gurobi.Var *Awaiting Model Update*>, (4, 0, 0): <gurobi.Var *Awaiting Model Update*>, (4, 0, 1): <gurobi.Var *Awaiting Model Update*>, (4, 0, 2): <gurobi.Var *Awaiting Model Update*>, (4, 0, 3): <gurobi.Var *Awaiting Model Update*>, (4, 0, 4): <gurobi.Var *Awaiting Model Update*>, (4, 0, 5): <gurobi.Var *Awaiting Model Update*>, (4, 0, 6): <gurobi.Var *Awaiting Model Update*>, (4, 0, 7): <gurobi.Var *Awaiting Model Update*>, (4, 0, 8): <gurobi.Var *Awaiting Model Update*>, (4, 1, 0): <gurobi.Var *Awaiting Model Update*>, (4, 1, 1): <gurobi.Var *Awaiting Model Update*>, (4, 1, 2): <gurobi.Var *Awaiting Model Update*>, (4, 1, 3): <gurobi.Var *Awaiting Model Update*>, (4, 1, 4): <gurobi.Var *Awaiting Model Update*>, (4, 1, 5): <gurobi.Var *Awaiting Model Update*>, (4, 1, 6): <gurobi.Var *Awaiting Model Update*>, (4, 1, 7): <gurobi.Var *Awaiting Model Update*>, (4, 1, 8): <gurobi.Var *Awaiting Model Update*>, (4, 2, 0): <gurobi.Var *Awaiting Model Update*>, (4, 2, 1): <gurobi.Var *Awaiting Model Update*>, (4, 2, 2): <gurobi.Var *Awaiting Model Update*>, (4, 2, 3): <gurobi.Var *Awaiting Model Update*>, (4, 2, 4): <gurobi.Var *Awaiting Model Update*>, (4, 2, 5): <gurobi.Var *Awaiting Model Update*>, (4, 2, 6): <gurobi.Var *Awaiting Model Update*>, (4, 2, 7): <gurobi.Var *Awaiting Model Update*>, (4, 2, 8): <gurobi.Var *Awaiting Model Update*>, (4, 3, 0): <gurobi.Var *Awaiting Model Update*>, (4, 3, 1): <gurobi.Var *Awaiting Model Update*>, (4, 3, 2): <gurobi.Var *Awaiting Model Update*>, (4, 3, 3): <gurobi.Var *Awaiting Model Update*>, (4, 3, 4): <gurobi.Var *Awaiting Model Update*>, (4, 3, 5): <gurobi.Var *Awaiting Model Update*>, (4, 3, 6): <gurobi.Var *Awaiting Model Update*>, (4, 3, 7): <gurobi.Var *Awaiting Model Update*>, (4, 3, 8): <gurobi.Var *Awaiting Model Update*>, (4, 4, 0): <gurobi.Var *Awaiting Model Update*>, (4, 4, 1): <gurobi.Var *Awaiting Model Update*>, (4, 4, 2): <gurobi.Var *Awaiting Model Update*>, (4, 4, 3): <gurobi.Var *Awaiting Model Update*>, (4, 4, 4): <gurobi.Var *Awaiting Model Update*>, (4, 4, 5): <gurobi.Var *Awaiting Model Update*>, (4, 4, 6): <gurobi.Var *Awaiting Model Update*>, (4, 4, 7): <gurobi.Var *Awaiting Model Update*>, (4, 4, 8): <gurobi.Var *Awaiting Model Update*>, (4, 5, 0): <gurobi.Var *Awaiting Model Update*>, (4, 5, 1): <gurobi.Var *Awaiting Model Update*>, (4, 5, 2): <gurobi.Var *Awaiting Model Update*>, (4, 5, 3): <gurobi.Var *Awaiting Model Update*>, (4, 5, 4): <gurobi.Var *Awaiting Model Update*>, (4, 5, 5): <gurobi.Var *Awaiting Model Update*>, (4, 5, 6): <gurobi.Var *Awaiting Model Update*>, (4, 5, 7): <gurobi.Var *Awaiting Model Update*>, (4, 5, 8): <gurobi.Var *Awaiting Model Update*>, (4, 6, 0): <gurobi.Var *Awaiting Model Update*>, (4, 6, 1): <gurobi.Var *Awaiting Model Update*>, (4, 6, 2): <gurobi.Var *Awaiting Model Update*>, (4, 6, 3): <gurobi.Var *Awaiting Model Update*>, (4, 6, 4): <gurobi.Var *Awaiting Model Update*>, (4, 6, 5): <gurobi.Var *Awaiting Model Update*>, (4, 6, 6): <gurobi.Var *Awaiting Model Update*>, (4, 6, 7): <gurobi.Var *Awaiting Model Update*>, (4, 6, 8): <gurobi.Var *Awaiting Model Update*>, (4, 7, 0): <gurobi.Var *Awaiting Model Update*>, (4, 7, 1): <gurobi.Var *Awaiting Model Update*>, (4, 7, 2): <gurobi.Var *Awaiting Model Update*>, (4, 7, 3): <gurobi.Var *Awaiting Model Update*>, (4, 7, 4): <gurobi.Var *Awaiting Model Update*>, (4, 7, 5): <gurobi.Var *Awaiting Model Update*>, (4, 7, 6): <gurobi.Var *Awaiting Model Update*>, (4, 7, 7): <gurobi.Var *Awaiting Model Update*>, (4, 7, 8): <gurobi.Var *Awaiting Model Update*>, (4, 8, 0): <gurobi.Var *Awaiting Model Update*>, (4, 8, 1): <gurobi.Var *Awaiting Model Update*>, (4, 8, 2): <gurobi.Var *Awaiting Model Update*>, (4, 8, 3): <gurobi.Var *Awaiting Model Update*>, (4, 8, 4): <gurobi.Var *Awaiting Model Update*>, (4, 8, 5): <gurobi.Var *Awaiting Model Update*>, (4, 8, 6): <gurobi.Var *Awaiting Model Update*>, (4, 8, 7): <gurobi.Var *Awaiting Model Update*>, (4, 8, 8): <gurobi.Var *Awaiting Model Update*>, (5, 0, 0): <gurobi.Var *Awaiting Model Update*>, (5, 0, 1): <gurobi.Var *Awaiting Model Update*>, (5, 0, 2): <gurobi.Var *Awaiting Model Update*>, (5, 0, 3): <gurobi.Var *Awaiting Model Update*>, (5, 0, 4): <gurobi.Var *Awaiting Model Update*>, (5, 0, 5): <gurobi.Var *Awaiting Model Update*>, (5, 0, 6): <gurobi.Var *Awaiting Model Update*>, (5, 0, 7): <gurobi.Var *Awaiting Model Update*>, (5, 0, 8): <gurobi.Var *Awaiting Model Update*>, (5, 1, 0): <gurobi.Var *Awaiting Model Update*>, (5, 1, 1): <gurobi.Var *Awaiting Model Update*>, (5, 1, 2): <gurobi.Var *Awaiting Model Update*>, (5, 1, 3): <gurobi.Var *Awaiting Model Update*>, (5, 1, 4): <gurobi.Var *Awaiting Model Update*>, (5, 1, 5): <gurobi.Var *Awaiting Model Update*>, (5, 1, 6): <gurobi.Var *Awaiting Model Update*>, (5, 1, 7): <gurobi.Var *Awaiting Model Update*>, (5, 1, 8): <gurobi.Var *Awaiting Model Update*>, (5, 2, 0): <gurobi.Var *Awaiting Model Update*>, (5, 2, 1): <gurobi.Var *Awaiting Model Update*>, (5, 2, 2): <gurobi.Var *Awaiting Model Update*>, (5, 2, 3): <gurobi.Var *Awaiting Model Update*>, (5, 2, 4): <gurobi.Var *Awaiting Model Update*>, (5, 2, 5): <gurobi.Var *Awaiting Model Update*>, (5, 2, 6): <gurobi.Var *Awaiting Model Update*>, (5, 2, 7): <gurobi.Var *Awaiting Model Update*>, (5, 2, 8): <gurobi.Var *Awaiting Model Update*>, (5, 3, 0): <gurobi.Var *Awaiting Model Update*>, (5, 3, 1): <gurobi.Var *Awaiting Model Update*>, (5, 3, 2): <gurobi.Var *Awaiting Model Update*>, (5, 3, 3): <gurobi.Var *Awaiting Model Update*>, (5, 3, 4): <gurobi.Var *Awaiting Model Update*>, (5, 3, 5): <gurobi.Var *Awaiting Model Update*>, (5, 3, 6): <gurobi.Var *Awaiting Model Update*>, (5, 3, 7): <gurobi.Var *Awaiting Model Update*>, (5, 3, 8): <gurobi.Var *Awaiting Model Update*>, (5, 4, 0): <gurobi.Var *Awaiting Model Update*>, (5, 4, 1): <gurobi.Var *Awaiting Model Update*>, (5, 4, 2): <gurobi.Var *Awaiting Model Update*>, (5, 4, 3): <gurobi.Var *Awaiting Model Update*>, (5, 4, 4): <gurobi.Var *Awaiting Model Update*>, (5, 4, 5): <gurobi.Var *Awaiting Model Update*>, (5, 4, 6): <gurobi.Var *Awaiting Model Update*>, (5, 4, 7): <gurobi.Var *Awaiting Model Update*>, (5, 4, 8): <gurobi.Var *Awaiting Model Update*>, (5, 5, 0): <gurobi.Var *Awaiting Model Update*>, (5, 5, 1): <gurobi.Var *Awaiting Model Update*>, (5, 5, 2): <gurobi.Var *Awaiting Model Update*>, (5, 5, 3): <gurobi.Var *Awaiting Model Update*>, (5, 5, 4): <gurobi.Var *Awaiting Model Update*>, (5, 5, 5): <gurobi.Var *Awaiting Model Update*>, (5, 5, 6): <gurobi.Var *Awaiting Model Update*>, (5, 5, 7): <gurobi.Var *Awaiting Model Update*>, (5, 5, 8): <gurobi.Var *Awaiting Model Update*>, (5, 6, 0): <gurobi.Var *Awaiting Model Update*>, (5, 6, 1): <gurobi.Var *Awaiting Model Update*>, (5, 6, 2): <gurobi.Var *Awaiting Model Update*>, (5, 6, 3): <gurobi.Var *Awaiting Model Update*>, (5, 6, 4): <gurobi.Var *Awaiting Model Update*>, (5, 6, 5): <gurobi.Var *Awaiting Model Update*>, (5, 6, 6): <gurobi.Var *Awaiting Model Update*>, (5, 6, 7): <gurobi.Var *Awaiting Model Update*>, (5, 6, 8): <gurobi.Var *Awaiting Model Update*>, (5, 7, 0): <gurobi.Var *Awaiting Model Update*>, (5, 7, 1): <gurobi.Var *Awaiting Model Update*>, (5, 7, 2): <gurobi.Var *Awaiting Model Update*>, (5, 7, 3): <gurobi.Var *Awaiting Model Update*>, (5, 7, 4): <gurobi.Var *Awaiting Model Update*>, (5, 7, 5): <gurobi.Var *Awaiting Model Update*>, (5, 7, 6): <gurobi.Var *Awaiting Model Update*>, (5, 7, 7): <gurobi.Var *Awaiting Model Update*>, (5, 7, 8): <gurobi.Var *Awaiting Model Update*>, (5, 8, 0): <gurobi.Var *Awaiting Model Update*>, (5, 8, 1): <gurobi.Var *Awaiting Model Update*>, (5, 8, 2): <gurobi.Var *Awaiting Model Update*>, (5, 8, 3): <gurobi.Var *Awaiting Model Update*>, (5, 8, 4): <gurobi.Var *Awaiting Model Update*>, (5, 8, 5): <gurobi.Var *Awaiting Model Update*>, (5, 8, 6): <gurobi.Var *Awaiting Model Update*>, (5, 8, 7): <gurobi.Var *Awaiting Model Update*>, (5, 8, 8): <gurobi.Var *Awaiting Model Update*>, (6, 0, 0): <gurobi.Var *Awaiting Model Update*>, (6, 0, 1): <gurobi.Var *Awaiting Model Update*>, (6, 0, 2): <gurobi.Var *Awaiting Model Update*>, (6, 0, 3): <gurobi.Var *Awaiting Model Update*>, (6, 0, 4): <gurobi.Var *Awaiting Model Update*>, (6, 0, 5): <gurobi.Var *Awaiting Model Update*>, (6, 0, 6): <gurobi.Var *Awaiting Model Update*>, (6, 0, 7): <gurobi.Var *Awaiting Model Update*>, (6, 0, 8): <gurobi.Var *Awaiting Model Update*>, (6, 1, 0): <gurobi.Var *Awaiting Model Update*>, (6, 1, 1): <gurobi.Var *Awaiting Model Update*>, (6, 1, 2): <gurobi.Var *Awaiting Model Update*>, (6, 1, 3): <gurobi.Var *Awaiting Model Update*>, (6, 1, 4): <gurobi.Var *Awaiting Model Update*>, (6, 1, 5): <gurobi.Var *Awaiting Model Update*>, (6, 1, 6): <gurobi.Var *Awaiting Model Update*>, (6, 1, 7): <gurobi.Var *Awaiting Model Update*>, (6, 1, 8): <gurobi.Var *Awaiting Model Update*>, (6, 2, 0): <gurobi.Var *Awaiting Model Update*>, (6, 2, 1): <gurobi.Var *Awaiting Model Update*>, (6, 2, 2): <gurobi.Var *Awaiting Model Update*>, (6, 2, 3): <gurobi.Var *Awaiting Model Update*>, (6, 2, 4): <gurobi.Var *Awaiting Model Update*>, (6, 2, 5): <gurobi.Var *Awaiting Model Update*>, (6, 2, 6): <gurobi.Var *Awaiting Model Update*>, (6, 2, 7): <gurobi.Var *Awaiting Model Update*>, (6, 2, 8): <gurobi.Var *Awaiting Model Update*>, (6, 3, 0): <gurobi.Var *Awaiting Model Update*>, (6, 3, 1): <gurobi.Var *Awaiting Model Update*>, (6, 3, 2): <gurobi.Var *Awaiting Model Update*>, (6, 3, 3): <gurobi.Var *Awaiting Model Update*>, (6, 3, 4): <gurobi.Var *Awaiting Model Update*>, (6, 3, 5): <gurobi.Var *Awaiting Model Update*>, (6, 3, 6): <gurobi.Var *Awaiting Model Update*>, (6, 3, 7): <gurobi.Var *Awaiting Model Update*>, (6, 3, 8): <gurobi.Var *Awaiting Model Update*>, (6, 4, 0): <gurobi.Var *Awaiting Model Update*>, (6, 4, 1): <gurobi.Var *Awaiting Model Update*>, (6, 4, 2): <gurobi.Var *Awaiting Model Update*>, (6, 4, 3): <gurobi.Var *Awaiting Model Update*>, (6, 4, 4): <gurobi.Var *Awaiting Model Update*>, (6, 4, 5): <gurobi.Var *Awaiting Model Update*>, (6, 4, 6): <gurobi.Var *Awaiting Model Update*>, (6, 4, 7): <gurobi.Var *Awaiting Model Update*>, (6, 4, 8): <gurobi.Var *Awaiting Model Update*>, (6, 5, 0): <gurobi.Var *Awaiting Model Update*>, (6, 5, 1): <gurobi.Var *Awaiting Model Update*>, (6, 5, 2): <gurobi.Var *Awaiting Model Update*>, (6, 5, 3): <gurobi.Var *Awaiting Model Update*>, (6, 5, 4): <gurobi.Var *Awaiting Model Update*>, (6, 5, 5): <gurobi.Var *Awaiting Model Update*>, (6, 5, 6): <gurobi.Var *Awaiting Model Update*>, (6, 5, 7): <gurobi.Var *Awaiting Model Update*>, (6, 5, 8): <gurobi.Var *Awaiting Model Update*>, (6, 6, 0): <gurobi.Var *Awaiting Model Update*>, (6, 6, 1): <gurobi.Var *Awaiting Model Update*>, (6, 6, 2): <gurobi.Var *Awaiting Model Update*>, (6, 6, 3): <gurobi.Var *Awaiting Model Update*>, (6, 6, 4): <gurobi.Var *Awaiting Model Update*>, (6, 6, 5): <gurobi.Var *Awaiting Model Update*>, (6, 6, 6): <gurobi.Var *Awaiting Model Update*>, (6, 6, 7): <gurobi.Var *Awaiting Model Update*>, (6, 6, 8): <gurobi.Var *Awaiting Model Update*>, (6, 7, 0): <gurobi.Var *Awaiting Model Update*>, (6, 7, 1): <gurobi.Var *Awaiting Model Update*>, (6, 7, 2): <gurobi.Var *Awaiting Model Update*>, (6, 7, 3): <gurobi.Var *Awaiting Model Update*>, (6, 7, 4): <gurobi.Var *Awaiting Model Update*>, (6, 7, 5): <gurobi.Var *Awaiting Model Update*>, (6, 7, 6): <gurobi.Var *Awaiting Model Update*>, (6, 7, 7): <gurobi.Var *Awaiting Model Update*>, (6, 7, 8): <gurobi.Var *Awaiting Model Update*>, (6, 8, 0): <gurobi.Var *Awaiting Model Update*>, (6, 8, 1): <gurobi.Var *Awaiting Model Update*>, (6, 8, 2): <gurobi.Var *Awaiting Model Update*>, (6, 8, 3): <gurobi.Var *Awaiting Model Update*>, (6, 8, 4): <gurobi.Var *Awaiting Model Update*>, (6, 8, 5): <gurobi.Var *Awaiting Model Update*>, (6, 8, 6): <gurobi.Var *Awaiting Model Update*>, (6, 8, 7): <gurobi.Var *Awaiting Model Update*>, (6, 8, 8): <gurobi.Var *Awaiting Model Update*>, (7, 0, 0): <gurobi.Var *Awaiting Model Update*>, (7, 0, 1): <gurobi.Var *Awaiting Model Update*>, (7, 0, 2): <gurobi.Var *Awaiting Model Update*>, (7, 0, 3): <gurobi.Var *Awaiting Model Update*>, (7, 0, 4): <gurobi.Var *Awaiting Model Update*>, (7, 0, 5): <gurobi.Var *Awaiting Model Update*>, (7, 0, 6): <gurobi.Var *Awaiting Model Update*>, (7, 0, 7): <gurobi.Var *Awaiting Model Update*>, (7, 0, 8): <gurobi.Var *Awaiting Model Update*>, (7, 1, 0): <gurobi.Var *Awaiting Model Update*>, (7, 1, 1): <gurobi.Var *Awaiting Model Update*>, (7, 1, 2): <gurobi.Var *Awaiting Model Update*>, (7, 1, 3): <gurobi.Var *Awaiting Model Update*>, (7, 1, 4): <gurobi.Var *Awaiting Model Update*>, (7, 1, 5): <gurobi.Var *Awaiting Model Update*>, (7, 1, 6): <gurobi.Var *Awaiting Model Update*>, (7, 1, 7): <gurobi.Var *Awaiting Model Update*>, (7, 1, 8): <gurobi.Var *Awaiting Model Update*>, (7, 2, 0): <gurobi.Var *Awaiting Model Update*>, (7, 2, 1): <gurobi.Var *Awaiting Model Update*>, (7, 2, 2): <gurobi.Var *Awaiting Model Update*>, (7, 2, 3): <gurobi.Var *Awaiting Model Update*>, (7, 2, 4): <gurobi.Var *Awaiting Model Update*>, (7, 2, 5): <gurobi.Var *Awaiting Model Update*>, (7, 2, 6): <gurobi.Var *Awaiting Model Update*>, (7, 2, 7): <gurobi.Var *Awaiting Model Update*>, (7, 2, 8): <gurobi.Var *Awaiting Model Update*>, (7, 3, 0): <gurobi.Var *Awaiting Model Update*>, (7, 3, 1): <gurobi.Var *Awaiting Model Update*>, (7, 3, 2): <gurobi.Var *Awaiting Model Update*>, (7, 3, 3): <gurobi.Var *Awaiting Model Update*>, (7, 3, 4): <gurobi.Var *Awaiting Model Update*>, (7, 3, 5): <gurobi.Var *Awaiting Model Update*>, (7, 3, 6): <gurobi.Var *Awaiting Model Update*>, (7, 3, 7): <gurobi.Var *Awaiting Model Update*>, (7, 3, 8): <gurobi.Var *Awaiting Model Update*>, (7, 4, 0): <gurobi.Var *Awaiting Model Update*>, (7, 4, 1): <gurobi.Var *Awaiting Model Update*>, (7, 4, 2): <gurobi.Var *Awaiting Model Update*>, (7, 4, 3): <gurobi.Var *Awaiting Model Update*>, (7, 4, 4): <gurobi.Var *Awaiting Model Update*>, (7, 4, 5): <gurobi.Var *Awaiting Model Update*>, (7, 4, 6): <gurobi.Var *Awaiting Model Update*>, (7, 4, 7): <gurobi.Var *Awaiting Model Update*>, (7, 4, 8): <gurobi.Var *Awaiting Model Update*>, (7, 5, 0): <gurobi.Var *Awaiting Model Update*>, (7, 5, 1): <gurobi.Var *Awaiting Model Update*>, (7, 5, 2): <gurobi.Var *Awaiting Model Update*>, (7, 5, 3): <gurobi.Var *Awaiting Model Update*>, (7, 5, 4): <gurobi.Var *Awaiting Model Update*>, (7, 5, 5): <gurobi.Var *Awaiting Model Update*>, (7, 5, 6): <gurobi.Var *Awaiting Model Update*>, (7, 5, 7): <gurobi.Var *Awaiting Model Update*>, (7, 5, 8): <gurobi.Var *Awaiting Model Update*>, (7, 6, 0): <gurobi.Var *Awaiting Model Update*>, (7, 6, 1): <gurobi.Var *Awaiting Model Update*>, (7, 6, 2): <gurobi.Var *Awaiting Model Update*>, (7, 6, 3): <gurobi.Var *Awaiting Model Update*>, (7, 6, 4): <gurobi.Var *Awaiting Model Update*>, (7, 6, 5): <gurobi.Var *Awaiting Model Update*>, (7, 6, 6): <gurobi.Var *Awaiting Model Update*>, (7, 6, 7): <gurobi.Var *Awaiting Model Update*>, (7, 6, 8): <gurobi.Var *Awaiting Model Update*>, (7, 7, 0): <gurobi.Var *Awaiting Model Update*>, (7, 7, 1): <gurobi.Var *Awaiting Model Update*>, (7, 7, 2): <gurobi.Var *Awaiting Model Update*>, (7, 7, 3): <gurobi.Var *Awaiting Model Update*>, (7, 7, 4): <gurobi.Var *Awaiting Model Update*>, (7, 7, 5): <gurobi.Var *Awaiting Model Update*>, (7, 7, 6): <gurobi.Var *Awaiting Model Update*>, (7, 7, 7): <gurobi.Var *Awaiting Model Update*>, (7, 7, 8): <gurobi.Var *Awaiting Model Update*>, (7, 8, 0): <gurobi.Var *Awaiting Model Update*>, (7, 8, 1): <gurobi.Var *Awaiting Model Update*>, (7, 8, 2): <gurobi.Var *Awaiting Model Update*>, (7, 8, 3): <gurobi.Var *Awaiting Model Update*>, (7, 8, 4): <gurobi.Var *Awaiting Model Update*>, (7, 8, 5): <gurobi.Var *Awaiting Model Update*>, (7, 8, 6): <gurobi.Var *Awaiting Model Update*>, (7, 8, 7): <gurobi.Var *Awaiting Model Update*>, (7, 8, 8): <gurobi.Var *Awaiting Model Update*>, (8, 0, 0): <gurobi.Var *Awaiting Model Update*>, (8, 0, 1): <gurobi.Var *Awaiting Model Update*>, (8, 0, 2): <gurobi.Var *Awaiting Model Update*>, (8, 0, 3): <gurobi.Var *Awaiting Model Update*>, (8, 0, 4): <gurobi.Var *Awaiting Model Update*>, (8, 0, 5): <gurobi.Var *Awaiting Model Update*>, (8, 0, 6): <gurobi.Var *Awaiting Model Update*>, (8, 0, 7): <gurobi.Var *Awaiting Model Update*>, (8, 0, 8): <gurobi.Var *Awaiting Model Update*>, (8, 1, 0): <gurobi.Var *Awaiting Model Update*>, (8, 1, 1): <gurobi.Var *Awaiting Model Update*>, (8, 1, 2): <gurobi.Var *Awaiting Model Update*>, (8, 1, 3): <gurobi.Var *Awaiting Model Update*>, (8, 1, 4): <gurobi.Var *Awaiting Model Update*>, (8, 1, 5): <gurobi.Var *Awaiting Model Update*>, (8, 1, 6): <gurobi.Var *Awaiting Model Update*>, (8, 1, 7): <gurobi.Var *Awaiting Model Update*>, (8, 1, 8): <gurobi.Var *Awaiting Model Update*>, (8, 2, 0): <gurobi.Var *Awaiting Model Update*>, (8, 2, 1): <gurobi.Var *Awaiting Model Update*>, (8, 2, 2): <gurobi.Var *Awaiting Model Update*>, (8, 2, 3): <gurobi.Var *Awaiting Model Update*>, (8, 2, 4): <gurobi.Var *Awaiting Model Update*>, (8, 2, 5): <gurobi.Var *Awaiting Model Update*>, (8, 2, 6): <gurobi.Var *Awaiting Model Update*>, (8, 2, 7): <gurobi.Var *Awaiting Model Update*>, (8, 2, 8): <gurobi.Var *Awaiting Model Update*>, (8, 3, 0): <gurobi.Var *Awaiting Model Update*>, (8, 3, 1): <gurobi.Var *Awaiting Model Update*>, (8, 3, 2): <gurobi.Var *Awaiting Model Update*>, (8, 3, 3): <gurobi.Var *Awaiting Model Update*>, (8, 3, 4): <gurobi.Var *Awaiting Model Update*>, (8, 3, 5): <gurobi.Var *Awaiting Model Update*>, (8, 3, 6): <gurobi.Var *Awaiting Model Update*>, (8, 3, 7): <gurobi.Var *Awaiting Model Update*>, (8, 3, 8): <gurobi.Var *Awaiting Model Update*>, (8, 4, 0): <gurobi.Var *Awaiting Model Update*>, (8, 4, 1): <gurobi.Var *Awaiting Model Update*>, (8, 4, 2): <gurobi.Var *Awaiting Model Update*>, (8, 4, 3): <gurobi.Var *Awaiting Model Update*>, (8, 4, 4): <gurobi.Var *Awaiting Model Update*>, (8, 4, 5): <gurobi.Var *Awaiting Model Update*>, (8, 4, 6): <gurobi.Var *Awaiting Model Update*>, (8, 4, 7): <gurobi.Var *Awaiting Model Update*>, (8, 4, 8): <gurobi.Var *Awaiting Model Update*>, (8, 5, 0): <gurobi.Var *Awaiting Model Update*>, (8, 5, 1): <gurobi.Var *Awaiting Model Update*>, (8, 5, 2): <gurobi.Var *Awaiting Model Update*>, (8, 5, 3): <gurobi.Var *Awaiting Model Update*>, (8, 5, 4): <gurobi.Var *Awaiting Model Update*>, (8, 5, 5): <gurobi.Var *Awaiting Model Update*>, (8, 5, 6): <gurobi.Var *Awaiting Model Update*>, (8, 5, 7): <gurobi.Var *Awaiting Model Update*>, (8, 5, 8): <gurobi.Var *Awaiting Model Update*>, (8, 6, 0): <gurobi.Var *Awaiting Model Update*>, (8, 6, 1): <gurobi.Var *Awaiting Model Update*>, (8, 6, 2): <gurobi.Var *Awaiting Model Update*>, (8, 6, 3): <gurobi.Var *Awaiting Model Update*>, (8, 6, 4): <gurobi.Var *Awaiting Model Update*>, (8, 6, 5): <gurobi.Var *Awaiting Model Update*>, (8, 6, 6): <gurobi.Var *Awaiting Model Update*>, (8, 6, 7): <gurobi.Var *Awaiting Model Update*>, (8, 6, 8): <gurobi.Var *Awaiting Model Update*>, (8, 7, 0): <gurobi.Var *Awaiting Model Update*>, (8, 7, 1): <gurobi.Var *Awaiting Model Update*>, (8, 7, 2): <gurobi.Var *Awaiting Model Update*>, (8, 7, 3): <gurobi.Var *Awaiting Model Update*>, (8, 7, 4): <gurobi.Var *Awaiting Model Update*>, (8, 7, 5): <gurobi.Var *Awaiting Model Update*>, (8, 7, 6): <gurobi.Var *Awaiting Model Update*>, (8, 7, 7): <gurobi.Var *Awaiting Model Update*>, (8, 7, 8): <gurobi.Var *Awaiting Model Update*>, (8, 8, 0): <gurobi.Var *Awaiting Model Update*>, (8, 8, 1): <gurobi.Var *Awaiting Model Update*>, (8, 8, 2): <gurobi.Var *Awaiting Model Update*>, (8, 8, 3): <gurobi.Var *Awaiting Model Update*>, (8, 8, 4): <gurobi.Var *Awaiting Model Update*>, (8, 8, 5): <gurobi.Var *Awaiting Model Update*>, (8, 8, 6): <gurobi.Var *Awaiting Model Update*>, (8, 8, 7): <gurobi.Var *Awaiting Model Update*>, (8, 8, 8): <gurobi.Var *Awaiting Model Update*>}\n",
      "<gurobi.Model Continuous instance sudoku: 0 constrs, 0 vars, Parameter changes: Username=(user-defined), LicenseID=2684323>\n"
     ]
    }
   ],
   "source": [
    "x = model.addVars(9, 9, 9, vtype=GRB.BINARY, name=\"x\")\n",
    "print(x)  # 应输出类似: { (0,0,0): <gurobi.Var x[0,0,0]>, ... }\n",
    "print(model)  # 应显示变量数: 729 (9×9×9)"
   ]
  },
  {
   "cell_type": "code",
   "execution_count": 6,
   "id": "67a5dc2e",
   "metadata": {},
   "outputs": [],
   "source": [
    "# 编写已知i，j跟数字的对应关系\n",
    "\n",
    "for i in range(N):\n",
    "    for j in range(N):\n",
    "        if sudoku_info[i,j]!=0:\n",
    "            model.addConstr(x[i,j,(sudoku_info[i,j]-1)]==1)\n"
   ]
  },
  {
   "cell_type": "code",
   "execution_count": 7,
   "id": "b8437705",
   "metadata": {},
   "outputs": [
    {
     "data": {
      "text/plain": [
       "{(0, 0): <gurobi.Constr *Awaiting Model Update*>,\n",
       " (0, 1): <gurobi.Constr *Awaiting Model Update*>,\n",
       " (0, 2): <gurobi.Constr *Awaiting Model Update*>,\n",
       " (0, 3): <gurobi.Constr *Awaiting Model Update*>,\n",
       " (0, 4): <gurobi.Constr *Awaiting Model Update*>,\n",
       " (0, 5): <gurobi.Constr *Awaiting Model Update*>,\n",
       " (0, 6): <gurobi.Constr *Awaiting Model Update*>,\n",
       " (0, 7): <gurobi.Constr *Awaiting Model Update*>,\n",
       " (0, 8): <gurobi.Constr *Awaiting Model Update*>,\n",
       " (1, 0): <gurobi.Constr *Awaiting Model Update*>,\n",
       " (1, 1): <gurobi.Constr *Awaiting Model Update*>,\n",
       " (1, 2): <gurobi.Constr *Awaiting Model Update*>,\n",
       " (1, 3): <gurobi.Constr *Awaiting Model Update*>,\n",
       " (1, 4): <gurobi.Constr *Awaiting Model Update*>,\n",
       " (1, 5): <gurobi.Constr *Awaiting Model Update*>,\n",
       " (1, 6): <gurobi.Constr *Awaiting Model Update*>,\n",
       " (1, 7): <gurobi.Constr *Awaiting Model Update*>,\n",
       " (1, 8): <gurobi.Constr *Awaiting Model Update*>,\n",
       " (2, 0): <gurobi.Constr *Awaiting Model Update*>,\n",
       " (2, 1): <gurobi.Constr *Awaiting Model Update*>,\n",
       " (2, 2): <gurobi.Constr *Awaiting Model Update*>,\n",
       " (2, 3): <gurobi.Constr *Awaiting Model Update*>,\n",
       " (2, 4): <gurobi.Constr *Awaiting Model Update*>,\n",
       " (2, 5): <gurobi.Constr *Awaiting Model Update*>,\n",
       " (2, 6): <gurobi.Constr *Awaiting Model Update*>,\n",
       " (2, 7): <gurobi.Constr *Awaiting Model Update*>,\n",
       " (2, 8): <gurobi.Constr *Awaiting Model Update*>,\n",
       " (3, 0): <gurobi.Constr *Awaiting Model Update*>,\n",
       " (3, 1): <gurobi.Constr *Awaiting Model Update*>,\n",
       " (3, 2): <gurobi.Constr *Awaiting Model Update*>,\n",
       " (3, 3): <gurobi.Constr *Awaiting Model Update*>,\n",
       " (3, 4): <gurobi.Constr *Awaiting Model Update*>,\n",
       " (3, 5): <gurobi.Constr *Awaiting Model Update*>,\n",
       " (3, 6): <gurobi.Constr *Awaiting Model Update*>,\n",
       " (3, 7): <gurobi.Constr *Awaiting Model Update*>,\n",
       " (3, 8): <gurobi.Constr *Awaiting Model Update*>,\n",
       " (4, 0): <gurobi.Constr *Awaiting Model Update*>,\n",
       " (4, 1): <gurobi.Constr *Awaiting Model Update*>,\n",
       " (4, 2): <gurobi.Constr *Awaiting Model Update*>,\n",
       " (4, 3): <gurobi.Constr *Awaiting Model Update*>,\n",
       " (4, 4): <gurobi.Constr *Awaiting Model Update*>,\n",
       " (4, 5): <gurobi.Constr *Awaiting Model Update*>,\n",
       " (4, 6): <gurobi.Constr *Awaiting Model Update*>,\n",
       " (4, 7): <gurobi.Constr *Awaiting Model Update*>,\n",
       " (4, 8): <gurobi.Constr *Awaiting Model Update*>,\n",
       " (5, 0): <gurobi.Constr *Awaiting Model Update*>,\n",
       " (5, 1): <gurobi.Constr *Awaiting Model Update*>,\n",
       " (5, 2): <gurobi.Constr *Awaiting Model Update*>,\n",
       " (5, 3): <gurobi.Constr *Awaiting Model Update*>,\n",
       " (5, 4): <gurobi.Constr *Awaiting Model Update*>,\n",
       " (5, 5): <gurobi.Constr *Awaiting Model Update*>,\n",
       " (5, 6): <gurobi.Constr *Awaiting Model Update*>,\n",
       " (5, 7): <gurobi.Constr *Awaiting Model Update*>,\n",
       " (5, 8): <gurobi.Constr *Awaiting Model Update*>,\n",
       " (6, 0): <gurobi.Constr *Awaiting Model Update*>,\n",
       " (6, 1): <gurobi.Constr *Awaiting Model Update*>,\n",
       " (6, 2): <gurobi.Constr *Awaiting Model Update*>,\n",
       " (6, 3): <gurobi.Constr *Awaiting Model Update*>,\n",
       " (6, 4): <gurobi.Constr *Awaiting Model Update*>,\n",
       " (6, 5): <gurobi.Constr *Awaiting Model Update*>,\n",
       " (6, 6): <gurobi.Constr *Awaiting Model Update*>,\n",
       " (6, 7): <gurobi.Constr *Awaiting Model Update*>,\n",
       " (6, 8): <gurobi.Constr *Awaiting Model Update*>,\n",
       " (7, 0): <gurobi.Constr *Awaiting Model Update*>,\n",
       " (7, 1): <gurobi.Constr *Awaiting Model Update*>,\n",
       " (7, 2): <gurobi.Constr *Awaiting Model Update*>,\n",
       " (7, 3): <gurobi.Constr *Awaiting Model Update*>,\n",
       " (7, 4): <gurobi.Constr *Awaiting Model Update*>,\n",
       " (7, 5): <gurobi.Constr *Awaiting Model Update*>,\n",
       " (7, 6): <gurobi.Constr *Awaiting Model Update*>,\n",
       " (7, 7): <gurobi.Constr *Awaiting Model Update*>,\n",
       " (7, 8): <gurobi.Constr *Awaiting Model Update*>,\n",
       " (8, 0): <gurobi.Constr *Awaiting Model Update*>,\n",
       " (8, 1): <gurobi.Constr *Awaiting Model Update*>,\n",
       " (8, 2): <gurobi.Constr *Awaiting Model Update*>,\n",
       " (8, 3): <gurobi.Constr *Awaiting Model Update*>,\n",
       " (8, 4): <gurobi.Constr *Awaiting Model Update*>,\n",
       " (8, 5): <gurobi.Constr *Awaiting Model Update*>,\n",
       " (8, 6): <gurobi.Constr *Awaiting Model Update*>,\n",
       " (8, 7): <gurobi.Constr *Awaiting Model Update*>,\n",
       " (8, 8): <gurobi.Constr *Awaiting Model Update*>}"
      ]
     },
     "execution_count": 7,
     "metadata": {},
     "output_type": "execute_result"
    }
   ],
   "source": [
    "model.addConstrs(gp.quicksum(x[i,j,k] for k in range(N)) == 1 \n",
    "                 for i in range(N)\n",
    "                 for j in range(N))"
   ]
  },
  {
   "cell_type": "code",
   "execution_count": 8,
   "id": "1ea3878e",
   "metadata": {},
   "outputs": [
    {
     "data": {
      "text/plain": [
       "<gurobi.Model Continuous instance sudoku: 0 constrs, 0 vars, Parameter changes: Username=(user-defined), LicenseID=2684323>"
      ]
     },
     "execution_count": 8,
     "metadata": {},
     "output_type": "execute_result"
    }
   ],
   "source": [
    "model"
   ]
  },
  {
   "cell_type": "code",
   "execution_count": 9,
   "id": "4275a0c9",
   "metadata": {},
   "outputs": [],
   "source": [
    "for i in range(N):\n",
    "    for j in range(N):\n",
    "        model.addConstr(gp.quicksum(x[i,j,k]for k in range(N))==1)"
   ]
  },
  {
   "cell_type": "code",
   "execution_count": 10,
   "id": "12ef70db",
   "metadata": {},
   "outputs": [],
   "source": [
    "for k in range(N):\n",
    "    for j in range(N):\n",
    "        model.addConstr(gp.quicksum(x[i,j,k]for i in range(N))==1)"
   ]
  },
  {
   "cell_type": "code",
   "execution_count": 11,
   "id": "6d69560e",
   "metadata": {},
   "outputs": [],
   "source": [
    "for i in range(N):\n",
    "    for k in range(N):\n",
    "        model.addConstr(gp.quicksum(x[i,j,k]for j in range(N))==1)"
   ]
  },
  {
   "cell_type": "code",
   "execution_count": 12,
   "id": "9435d4f4",
   "metadata": {},
   "outputs": [],
   "source": [
    "for i0 in range(n):\n",
    "    for j0 in range(n):\n",
    "        for k in range(N):\n",
    "            model.addConstr(\n",
    "                gp.quicksum(x[i,j,k]for i in range(i0*3,i0*3+3)\n",
    "                           for j in range(j0*3,j0*3+3))==1)\n"
   ]
  },
  {
   "cell_type": "code",
   "execution_count": 13,
   "id": "7bd0f315",
   "metadata": {},
   "outputs": [
    {
     "name": "stdout",
     "output_type": "stream",
     "text": [
      "Gurobi Optimizer version 12.0.2 build v12.0.2rc0 (win64 - Windows 10.0 (19045.2))\n",
      "\n",
      "CPU model: AMD Ryzen 5 5600H with Radeon Graphics, instruction set [SSE2|AVX|AVX2]\n",
      "Thread count: 6 physical cores, 12 logical processors, using up to 12 threads\n",
      "\n",
      "Optimize a model with 433 rows, 729 columns and 3673 nonzeros\n",
      "Model fingerprint: 0x31d2835a\n",
      "Variable types: 0 continuous, 729 integer (729 binary)\n",
      "Coefficient statistics:\n",
      "  Matrix range     [1e+00, 1e+00]\n",
      "  Objective range  [0e+00, 0e+00]\n",
      "  Bounds range     [1e+00, 1e+00]\n",
      "  RHS range        [1e+00, 1e+00]\n",
      "Presolve removed 433 rows and 729 columns\n",
      "Presolve time: 0.00s\n",
      "Presolve: All rows and columns removed\n",
      "\n",
      "Explored 0 nodes (0 simplex iterations) in 0.01 seconds (0.00 work units)\n",
      "Thread count was 1 (of 12 available processors)\n",
      "\n",
      "Solution count 1: 0 \n",
      "\n",
      "Optimal solution found (tolerance 1.00e-04)\n",
      "Best objective 0.000000000000e+00, best bound 0.000000000000e+00, gap 0.0000%\n"
     ]
    }
   ],
   "source": [
    "model.optimize()"
   ]
  },
  {
   "cell_type": "code",
   "execution_count": 14,
   "id": "0653c7fc",
   "metadata": {},
   "outputs": [
    {
     "name": "stdout",
     "output_type": "stream",
     "text": [
      "{(0, 0, 0): <gurobi.Var x[0,0,0] (value 0.0)>, (0, 0, 1): <gurobi.Var x[0,0,1] (value 0.0)>, (0, 0, 2): <gurobi.Var x[0,0,2] (value 0.0)>, (0, 0, 3): <gurobi.Var x[0,0,3] (value 0.0)>, (0, 0, 4): <gurobi.Var x[0,0,4] (value 0.0)>, (0, 0, 5): <gurobi.Var x[0,0,5] (value 0.0)>, (0, 0, 6): <gurobi.Var x[0,0,6] (value 0.0)>, (0, 0, 7): <gurobi.Var x[0,0,7] (value 1.0)>, (0, 0, 8): <gurobi.Var x[0,0,8] (value 0.0)>, (0, 1, 0): <gurobi.Var x[0,1,0] (value 1.0)>, (0, 1, 1): <gurobi.Var x[0,1,1] (value 0.0)>, (0, 1, 2): <gurobi.Var x[0,1,2] (value 0.0)>, (0, 1, 3): <gurobi.Var x[0,1,3] (value 0.0)>, (0, 1, 4): <gurobi.Var x[0,1,4] (value 0.0)>, (0, 1, 5): <gurobi.Var x[0,1,5] (value 0.0)>, (0, 1, 6): <gurobi.Var x[0,1,6] (value 0.0)>, (0, 1, 7): <gurobi.Var x[0,1,7] (value 0.0)>, (0, 1, 8): <gurobi.Var x[0,1,8] (value 0.0)>, (0, 2, 0): <gurobi.Var x[0,2,0] (value 0.0)>, (0, 2, 1): <gurobi.Var x[0,2,1] (value 0.0)>, (0, 2, 2): <gurobi.Var x[0,2,2] (value 0.0)>, (0, 2, 3): <gurobi.Var x[0,2,3] (value 0.0)>, (0, 2, 4): <gurobi.Var x[0,2,4] (value 0.0)>, (0, 2, 5): <gurobi.Var x[0,2,5] (value 0.0)>, (0, 2, 6): <gurobi.Var x[0,2,6] (value 1.0)>, (0, 2, 7): <gurobi.Var x[0,2,7] (value 0.0)>, (0, 2, 8): <gurobi.Var x[0,2,8] (value 0.0)>, (0, 3, 0): <gurobi.Var x[0,3,0] (value 0.0)>, (0, 3, 1): <gurobi.Var x[0,3,1] (value 0.0)>, (0, 3, 2): <gurobi.Var x[0,3,2] (value 0.0)>, (0, 3, 3): <gurobi.Var x[0,3,3] (value 0.0)>, (0, 3, 4): <gurobi.Var x[0,3,4] (value 1.0)>, (0, 3, 5): <gurobi.Var x[0,3,5] (value 0.0)>, (0, 3, 6): <gurobi.Var x[0,3,6] (value 0.0)>, (0, 3, 7): <gurobi.Var x[0,3,7] (value 0.0)>, (0, 3, 8): <gurobi.Var x[0,3,8] (value 0.0)>, (0, 4, 0): <gurobi.Var x[0,4,0] (value 0.0)>, (0, 4, 1): <gurobi.Var x[0,4,1] (value 0.0)>, (0, 4, 2): <gurobi.Var x[0,4,2] (value 0.0)>, (0, 4, 3): <gurobi.Var x[0,4,3] (value 1.0)>, (0, 4, 4): <gurobi.Var x[0,4,4] (value 0.0)>, (0, 4, 5): <gurobi.Var x[0,4,5] (value 0.0)>, (0, 4, 6): <gurobi.Var x[0,4,6] (value 0.0)>, (0, 4, 7): <gurobi.Var x[0,4,7] (value 0.0)>, (0, 4, 8): <gurobi.Var x[0,4,8] (value 0.0)>, (0, 5, 0): <gurobi.Var x[0,5,0] (value 0.0)>, (0, 5, 1): <gurobi.Var x[0,5,1] (value 1.0)>, (0, 5, 2): <gurobi.Var x[0,5,2] (value 0.0)>, (0, 5, 3): <gurobi.Var x[0,5,3] (value 0.0)>, (0, 5, 4): <gurobi.Var x[0,5,4] (value 0.0)>, (0, 5, 5): <gurobi.Var x[0,5,5] (value 0.0)>, (0, 5, 6): <gurobi.Var x[0,5,6] (value 0.0)>, (0, 5, 7): <gurobi.Var x[0,5,7] (value 0.0)>, (0, 5, 8): <gurobi.Var x[0,5,8] (value 0.0)>, (0, 6, 0): <gurobi.Var x[0,6,0] (value 0.0)>, (0, 6, 1): <gurobi.Var x[0,6,1] (value 0.0)>, (0, 6, 2): <gurobi.Var x[0,6,2] (value 0.0)>, (0, 6, 3): <gurobi.Var x[0,6,3] (value 0.0)>, (0, 6, 4): <gurobi.Var x[0,6,4] (value 0.0)>, (0, 6, 5): <gurobi.Var x[0,6,5] (value 0.0)>, (0, 6, 6): <gurobi.Var x[0,6,6] (value 0.0)>, (0, 6, 7): <gurobi.Var x[0,6,7] (value 0.0)>, (0, 6, 8): <gurobi.Var x[0,6,8] (value 1.0)>, (0, 7, 0): <gurobi.Var x[0,7,0] (value 0.0)>, (0, 7, 1): <gurobi.Var x[0,7,1] (value 0.0)>, (0, 7, 2): <gurobi.Var x[0,7,2] (value 1.0)>, (0, 7, 3): <gurobi.Var x[0,7,3] (value 0.0)>, (0, 7, 4): <gurobi.Var x[0,7,4] (value 0.0)>, (0, 7, 5): <gurobi.Var x[0,7,5] (value 0.0)>, (0, 7, 6): <gurobi.Var x[0,7,6] (value 0.0)>, (0, 7, 7): <gurobi.Var x[0,7,7] (value 0.0)>, (0, 7, 8): <gurobi.Var x[0,7,8] (value 0.0)>, (0, 8, 0): <gurobi.Var x[0,8,0] (value 0.0)>, (0, 8, 1): <gurobi.Var x[0,8,1] (value 0.0)>, (0, 8, 2): <gurobi.Var x[0,8,2] (value 0.0)>, (0, 8, 3): <gurobi.Var x[0,8,3] (value 0.0)>, (0, 8, 4): <gurobi.Var x[0,8,4] (value 0.0)>, (0, 8, 5): <gurobi.Var x[0,8,5] (value 1.0)>, (0, 8, 6): <gurobi.Var x[0,8,6] (value 0.0)>, (0, 8, 7): <gurobi.Var x[0,8,7] (value 0.0)>, (0, 8, 8): <gurobi.Var x[0,8,8] (value 0.0)>, (1, 0, 0): <gurobi.Var x[1,0,0] (value 0.0)>, (1, 0, 1): <gurobi.Var x[1,0,1] (value 1.0)>, (1, 0, 2): <gurobi.Var x[1,0,2] (value 0.0)>, (1, 0, 3): <gurobi.Var x[1,0,3] (value 0.0)>, (1, 0, 4): <gurobi.Var x[1,0,4] (value 0.0)>, (1, 0, 5): <gurobi.Var x[1,0,5] (value 0.0)>, (1, 0, 6): <gurobi.Var x[1,0,6] (value 0.0)>, (1, 0, 7): <gurobi.Var x[1,0,7] (value 0.0)>, (1, 0, 8): <gurobi.Var x[1,0,8] (value 0.0)>, (1, 1, 0): <gurobi.Var x[1,1,0] (value 0.0)>, (1, 1, 1): <gurobi.Var x[1,1,1] (value 0.0)>, (1, 1, 2): <gurobi.Var x[1,1,2] (value 1.0)>, (1, 1, 3): <gurobi.Var x[1,1,3] (value 0.0)>, (1, 1, 4): <gurobi.Var x[1,1,4] (value 0.0)>, (1, 1, 5): <gurobi.Var x[1,1,5] (value 0.0)>, (1, 1, 6): <gurobi.Var x[1,1,6] (value 0.0)>, (1, 1, 7): <gurobi.Var x[1,1,7] (value 0.0)>, (1, 1, 8): <gurobi.Var x[1,1,8] (value 0.0)>, (1, 2, 0): <gurobi.Var x[1,2,0] (value 0.0)>, (1, 2, 1): <gurobi.Var x[1,2,1] (value 0.0)>, (1, 2, 2): <gurobi.Var x[1,2,2] (value -0.0)>, (1, 2, 3): <gurobi.Var x[1,2,3] (value 0.0)>, (1, 2, 4): <gurobi.Var x[1,2,4] (value 0.0)>, (1, 2, 5): <gurobi.Var x[1,2,5] (value 0.0)>, (1, 2, 6): <gurobi.Var x[1,2,6] (value 0.0)>, (1, 2, 7): <gurobi.Var x[1,2,7] (value 0.0)>, (1, 2, 8): <gurobi.Var x[1,2,8] (value 1.0)>, (1, 3, 0): <gurobi.Var x[1,3,0] (value 0.0)>, (1, 3, 1): <gurobi.Var x[1,3,1] (value 0.0)>, (1, 3, 2): <gurobi.Var x[1,3,2] (value 0.0)>, (1, 3, 3): <gurobi.Var x[1,3,3] (value 0.0)>, (1, 3, 4): <gurobi.Var x[1,3,4] (value 0.0)>, (1, 3, 5): <gurobi.Var x[1,3,5] (value 0.0)>, (1, 3, 6): <gurobi.Var x[1,3,6] (value 1.0)>, (1, 3, 7): <gurobi.Var x[1,3,7] (value 0.0)>, (1, 3, 8): <gurobi.Var x[1,3,8] (value 0.0)>, (1, 4, 0): <gurobi.Var x[1,4,0] (value 0.0)>, (1, 4, 1): <gurobi.Var x[1,4,1] (value 0.0)>, (1, 4, 2): <gurobi.Var x[1,4,2] (value 0.0)>, (1, 4, 3): <gurobi.Var x[1,4,3] (value 0.0)>, (1, 4, 4): <gurobi.Var x[1,4,4] (value 0.0)>, (1, 4, 5): <gurobi.Var x[1,4,5] (value 0.0)>, (1, 4, 6): <gurobi.Var x[1,4,6] (value 0.0)>, (1, 4, 7): <gurobi.Var x[1,4,7] (value 1.0)>, (1, 4, 8): <gurobi.Var x[1,4,8] (value 0.0)>, (1, 5, 0): <gurobi.Var x[1,5,0] (value 0.0)>, (1, 5, 1): <gurobi.Var x[1,5,1] (value 0.0)>, (1, 5, 2): <gurobi.Var x[1,5,2] (value 0.0)>, (1, 5, 3): <gurobi.Var x[1,5,3] (value 0.0)>, (1, 5, 4): <gurobi.Var x[1,5,4] (value 0.0)>, (1, 5, 5): <gurobi.Var x[1,5,5] (value 1.0)>, (1, 5, 6): <gurobi.Var x[1,5,6] (value 0.0)>, (1, 5, 7): <gurobi.Var x[1,5,7] (value 0.0)>, (1, 5, 8): <gurobi.Var x[1,5,8] (value 0.0)>, (1, 6, 0): <gurobi.Var x[1,6,0] (value 0.0)>, (1, 6, 1): <gurobi.Var x[1,6,1] (value 0.0)>, (1, 6, 2): <gurobi.Var x[1,6,2] (value 0.0)>, (1, 6, 3): <gurobi.Var x[1,6,3] (value 1.0)>, (1, 6, 4): <gurobi.Var x[1,6,4] (value 0.0)>, (1, 6, 5): <gurobi.Var x[1,6,5] (value 0.0)>, (1, 6, 6): <gurobi.Var x[1,6,6] (value 0.0)>, (1, 6, 7): <gurobi.Var x[1,6,7] (value 0.0)>, (1, 6, 8): <gurobi.Var x[1,6,8] (value 0.0)>, (1, 7, 0): <gurobi.Var x[1,7,0] (value 1.0)>, (1, 7, 1): <gurobi.Var x[1,7,1] (value 0.0)>, (1, 7, 2): <gurobi.Var x[1,7,2] (value 0.0)>, (1, 7, 3): <gurobi.Var x[1,7,3] (value 0.0)>, (1, 7, 4): <gurobi.Var x[1,7,4] (value 0.0)>, (1, 7, 5): <gurobi.Var x[1,7,5] (value 0.0)>, (1, 7, 6): <gurobi.Var x[1,7,6] (value 0.0)>, (1, 7, 7): <gurobi.Var x[1,7,7] (value 0.0)>, (1, 7, 8): <gurobi.Var x[1,7,8] (value 0.0)>, (1, 8, 0): <gurobi.Var x[1,8,0] (value 0.0)>, (1, 8, 1): <gurobi.Var x[1,8,1] (value 0.0)>, (1, 8, 2): <gurobi.Var x[1,8,2] (value 0.0)>, (1, 8, 3): <gurobi.Var x[1,8,3] (value 0.0)>, (1, 8, 4): <gurobi.Var x[1,8,4] (value 1.0)>, (1, 8, 5): <gurobi.Var x[1,8,5] (value 0.0)>, (1, 8, 6): <gurobi.Var x[1,8,6] (value 0.0)>, (1, 8, 7): <gurobi.Var x[1,8,7] (value 0.0)>, (1, 8, 8): <gurobi.Var x[1,8,8] (value 0.0)>, (2, 0, 0): <gurobi.Var x[2,0,0] (value 0.0)>, (2, 0, 1): <gurobi.Var x[2,0,1] (value 0.0)>, (2, 0, 2): <gurobi.Var x[2,0,2] (value 0.0)>, (2, 0, 3): <gurobi.Var x[2,0,3] (value 0.0)>, (2, 0, 4): <gurobi.Var x[2,0,4] (value 1.0)>, (2, 0, 5): <gurobi.Var x[2,0,5] (value 0.0)>, (2, 0, 6): <gurobi.Var x[2,0,6] (value 0.0)>, (2, 0, 7): <gurobi.Var x[2,0,7] (value 0.0)>, (2, 0, 8): <gurobi.Var x[2,0,8] (value 0.0)>, (2, 1, 0): <gurobi.Var x[2,1,0] (value 0.0)>, (2, 1, 1): <gurobi.Var x[2,1,1] (value 0.0)>, (2, 1, 2): <gurobi.Var x[2,1,2] (value 0.0)>, (2, 1, 3): <gurobi.Var x[2,1,3] (value 1.0)>, (2, 1, 4): <gurobi.Var x[2,1,4] (value 0.0)>, (2, 1, 5): <gurobi.Var x[2,1,5] (value 0.0)>, (2, 1, 6): <gurobi.Var x[2,1,6] (value 0.0)>, (2, 1, 7): <gurobi.Var x[2,1,7] (value 0.0)>, (2, 1, 8): <gurobi.Var x[2,1,8] (value 0.0)>, (2, 2, 0): <gurobi.Var x[2,2,0] (value 0.0)>, (2, 2, 1): <gurobi.Var x[2,2,1] (value 0.0)>, (2, 2, 2): <gurobi.Var x[2,2,2] (value 0.0)>, (2, 2, 3): <gurobi.Var x[2,2,3] (value 0.0)>, (2, 2, 4): <gurobi.Var x[2,2,4] (value 0.0)>, (2, 2, 5): <gurobi.Var x[2,2,5] (value 1.0)>, (2, 2, 6): <gurobi.Var x[2,2,6] (value 0.0)>, (2, 2, 7): <gurobi.Var x[2,2,7] (value 0.0)>, (2, 2, 8): <gurobi.Var x[2,2,8] (value 0.0)>, (2, 3, 0): <gurobi.Var x[2,3,0] (value 0.0)>, (2, 3, 1): <gurobi.Var x[2,3,1] (value 0.0)>, (2, 3, 2): <gurobi.Var x[2,3,2] (value 0.0)>, (2, 3, 3): <gurobi.Var x[2,3,3] (value 0.0)>, (2, 3, 4): <gurobi.Var x[2,3,4] (value 0.0)>, (2, 3, 5): <gurobi.Var x[2,3,5] (value 0.0)>, (2, 3, 6): <gurobi.Var x[2,3,6] (value 0.0)>, (2, 3, 7): <gurobi.Var x[2,3,7] (value 0.0)>, (2, 3, 8): <gurobi.Var x[2,3,8] (value 1.0)>, (2, 4, 0): <gurobi.Var x[2,4,0] (value 1.0)>, (2, 4, 1): <gurobi.Var x[2,4,1] (value 0.0)>, (2, 4, 2): <gurobi.Var x[2,4,2] (value 0.0)>, (2, 4, 3): <gurobi.Var x[2,4,3] (value 0.0)>, (2, 4, 4): <gurobi.Var x[2,4,4] (value 0.0)>, (2, 4, 5): <gurobi.Var x[2,4,5] (value 0.0)>, (2, 4, 6): <gurobi.Var x[2,4,6] (value 0.0)>, (2, 4, 7): <gurobi.Var x[2,4,7] (value 0.0)>, (2, 4, 8): <gurobi.Var x[2,4,8] (value 0.0)>, (2, 5, 0): <gurobi.Var x[2,5,0] (value 0.0)>, (2, 5, 1): <gurobi.Var x[2,5,1] (value 0.0)>, (2, 5, 2): <gurobi.Var x[2,5,2] (value 1.0)>, (2, 5, 3): <gurobi.Var x[2,5,3] (value 0.0)>, (2, 5, 4): <gurobi.Var x[2,5,4] (value 0.0)>, (2, 5, 5): <gurobi.Var x[2,5,5] (value 0.0)>, (2, 5, 6): <gurobi.Var x[2,5,6] (value 0.0)>, (2, 5, 7): <gurobi.Var x[2,5,7] (value 0.0)>, (2, 5, 8): <gurobi.Var x[2,5,8] (value 0.0)>, (2, 6, 0): <gurobi.Var x[2,6,0] (value 0.0)>, (2, 6, 1): <gurobi.Var x[2,6,1] (value 0.0)>, (2, 6, 2): <gurobi.Var x[2,6,2] (value 0.0)>, (2, 6, 3): <gurobi.Var x[2,6,3] (value 0.0)>, (2, 6, 4): <gurobi.Var x[2,6,4] (value 0.0)>, (2, 6, 5): <gurobi.Var x[2,6,5] (value 0.0)>, (2, 6, 6): <gurobi.Var x[2,6,6] (value 0.0)>, (2, 6, 7): <gurobi.Var x[2,6,7] (value 1.0)>, (2, 6, 8): <gurobi.Var x[2,6,8] (value 0.0)>, (2, 7, 0): <gurobi.Var x[2,7,0] (value 0.0)>, (2, 7, 1): <gurobi.Var x[2,7,1] (value 1.0)>, (2, 7, 2): <gurobi.Var x[2,7,2] (value 0.0)>, (2, 7, 3): <gurobi.Var x[2,7,3] (value 0.0)>, (2, 7, 4): <gurobi.Var x[2,7,4] (value 0.0)>, (2, 7, 5): <gurobi.Var x[2,7,5] (value 0.0)>, (2, 7, 6): <gurobi.Var x[2,7,6] (value 0.0)>, (2, 7, 7): <gurobi.Var x[2,7,7] (value 0.0)>, (2, 7, 8): <gurobi.Var x[2,7,8] (value 0.0)>, (2, 8, 0): <gurobi.Var x[2,8,0] (value 0.0)>, (2, 8, 1): <gurobi.Var x[2,8,1] (value 0.0)>, (2, 8, 2): <gurobi.Var x[2,8,2] (value 0.0)>, (2, 8, 3): <gurobi.Var x[2,8,3] (value 0.0)>, (2, 8, 4): <gurobi.Var x[2,8,4] (value 0.0)>, (2, 8, 5): <gurobi.Var x[2,8,5] (value 0.0)>, (2, 8, 6): <gurobi.Var x[2,8,6] (value 1.0)>, (2, 8, 7): <gurobi.Var x[2,8,7] (value 0.0)>, (2, 8, 8): <gurobi.Var x[2,8,8] (value 0.0)>, (3, 0, 0): <gurobi.Var x[3,0,0] (value 1.0)>, (3, 0, 1): <gurobi.Var x[3,0,1] (value 0.0)>, (3, 0, 2): <gurobi.Var x[3,0,2] (value 0.0)>, (3, 0, 3): <gurobi.Var x[3,0,3] (value 0.0)>, (3, 0, 4): <gurobi.Var x[3,0,4] (value 0.0)>, (3, 0, 5): <gurobi.Var x[3,0,5] (value 0.0)>, (3, 0, 6): <gurobi.Var x[3,0,6] (value 0.0)>, (3, 0, 7): <gurobi.Var x[3,0,7] (value 0.0)>, (3, 0, 8): <gurobi.Var x[3,0,8] (value 0.0)>, (3, 1, 0): <gurobi.Var x[3,1,0] (value 0.0)>, (3, 1, 1): <gurobi.Var x[3,1,1] (value 0.0)>, (3, 1, 2): <gurobi.Var x[3,1,2] (value 0.0)>, (3, 1, 3): <gurobi.Var x[3,1,3] (value 0.0)>, (3, 1, 4): <gurobi.Var x[3,1,4] (value 0.0)>, (3, 1, 5): <gurobi.Var x[3,1,5] (value 1.0)>, (3, 1, 6): <gurobi.Var x[3,1,6] (value 0.0)>, (3, 1, 7): <gurobi.Var x[3,1,7] (value 0.0)>, (3, 1, 8): <gurobi.Var x[3,1,8] (value 0.0)>, (3, 2, 0): <gurobi.Var x[3,2,0] (value 0.0)>, (3, 2, 1): <gurobi.Var x[3,2,1] (value 1.0)>, (3, 2, 2): <gurobi.Var x[3,2,2] (value 0.0)>, (3, 2, 3): <gurobi.Var x[3,2,3] (value 0.0)>, (3, 2, 4): <gurobi.Var x[3,2,4] (value 0.0)>, (3, 2, 5): <gurobi.Var x[3,2,5] (value 0.0)>, (3, 2, 6): <gurobi.Var x[3,2,6] (value 0.0)>, (3, 2, 7): <gurobi.Var x[3,2,7] (value 0.0)>, (3, 2, 8): <gurobi.Var x[3,2,8] (value 0.0)>, (3, 3, 0): <gurobi.Var x[3,3,0] (value 0.0)>, (3, 3, 1): <gurobi.Var x[3,3,1] (value 0.0)>, (3, 3, 2): <gurobi.Var x[3,3,2] (value 0.0)>, (3, 3, 3): <gurobi.Var x[3,3,3] (value 0.0)>, (3, 3, 4): <gurobi.Var x[3,3,4] (value 0.0)>, (3, 3, 5): <gurobi.Var x[3,3,5] (value 0.0)>, (3, 3, 6): <gurobi.Var x[3,3,6] (value 0.0)>, (3, 3, 7): <gurobi.Var x[3,3,7] (value 1.0)>, (3, 3, 8): <gurobi.Var x[3,3,8] (value 0.0)>, (3, 4, 0): <gurobi.Var x[3,4,0] (value 0.0)>, (3, 4, 1): <gurobi.Var x[3,4,1] (value 0.0)>, (3, 4, 2): <gurobi.Var x[3,4,2] (value 0.0)>, (3, 4, 3): <gurobi.Var x[3,4,3] (value 0.0)>, (3, 4, 4): <gurobi.Var x[3,4,4] (value 1.0)>, (3, 4, 5): <gurobi.Var x[3,4,5] (value 0.0)>, (3, 4, 6): <gurobi.Var x[3,4,6] (value 0.0)>, (3, 4, 7): <gurobi.Var x[3,4,7] (value 0.0)>, (3, 4, 8): <gurobi.Var x[3,4,8] (value 0.0)>, (3, 5, 0): <gurobi.Var x[3,5,0] (value 0.0)>, (3, 5, 1): <gurobi.Var x[3,5,1] (value 0.0)>, (3, 5, 2): <gurobi.Var x[3,5,2] (value 0.0)>, (3, 5, 3): <gurobi.Var x[3,5,3] (value 1.0)>, (3, 5, 4): <gurobi.Var x[3,5,4] (value 0.0)>, (3, 5, 5): <gurobi.Var x[3,5,5] (value 0.0)>, (3, 5, 6): <gurobi.Var x[3,5,6] (value 0.0)>, (3, 5, 7): <gurobi.Var x[3,5,7] (value 0.0)>, (3, 5, 8): <gurobi.Var x[3,5,8] (value 0.0)>, (3, 6, 0): <gurobi.Var x[3,6,0] (value 0.0)>, (3, 6, 1): <gurobi.Var x[3,6,1] (value 0.0)>, (3, 6, 2): <gurobi.Var x[3,6,2] (value 1.0)>, (3, 6, 3): <gurobi.Var x[3,6,3] (value 0.0)>, (3, 6, 4): <gurobi.Var x[3,6,4] (value 0.0)>, (3, 6, 5): <gurobi.Var x[3,6,5] (value 0.0)>, (3, 6, 6): <gurobi.Var x[3,6,6] (value 0.0)>, (3, 6, 7): <gurobi.Var x[3,6,7] (value 0.0)>, (3, 6, 8): <gurobi.Var x[3,6,8] (value 0.0)>, (3, 7, 0): <gurobi.Var x[3,7,0] (value 0.0)>, (3, 7, 1): <gurobi.Var x[3,7,1] (value 0.0)>, (3, 7, 2): <gurobi.Var x[3,7,2] (value 0.0)>, (3, 7, 3): <gurobi.Var x[3,7,3] (value 0.0)>, (3, 7, 4): <gurobi.Var x[3,7,4] (value 0.0)>, (3, 7, 5): <gurobi.Var x[3,7,5] (value 0.0)>, (3, 7, 6): <gurobi.Var x[3,7,6] (value 1.0)>, (3, 7, 7): <gurobi.Var x[3,7,7] (value 0.0)>, (3, 7, 8): <gurobi.Var x[3,7,8] (value 0.0)>, (3, 8, 0): <gurobi.Var x[3,8,0] (value 0.0)>, (3, 8, 1): <gurobi.Var x[3,8,1] (value 0.0)>, (3, 8, 2): <gurobi.Var x[3,8,2] (value 0.0)>, (3, 8, 3): <gurobi.Var x[3,8,3] (value 0.0)>, (3, 8, 4): <gurobi.Var x[3,8,4] (value 0.0)>, (3, 8, 5): <gurobi.Var x[3,8,5] (value 0.0)>, (3, 8, 6): <gurobi.Var x[3,8,6] (value 0.0)>, (3, 8, 7): <gurobi.Var x[3,8,7] (value 0.0)>, (3, 8, 8): <gurobi.Var x[3,8,8] (value 1.0)>, (4, 0, 0): <gurobi.Var x[4,0,0] (value 0.0)>, (4, 0, 1): <gurobi.Var x[4,0,1] (value 0.0)>, (4, 0, 2): <gurobi.Var x[4,0,2] (value 0.0)>, (4, 0, 3): <gurobi.Var x[4,0,3] (value 0.0)>, (4, 0, 4): <gurobi.Var x[4,0,4] (value 0.0)>, (4, 0, 5): <gurobi.Var x[4,0,5] (value 0.0)>, (4, 0, 6): <gurobi.Var x[4,0,6] (value 0.0)>, (4, 0, 7): <gurobi.Var x[4,0,7] (value 0.0)>, (4, 0, 8): <gurobi.Var x[4,0,8] (value 1.0)>, (4, 1, 0): <gurobi.Var x[4,1,0] (value 0.0)>, (4, 1, 1): <gurobi.Var x[4,1,1] (value 0.0)>, (4, 1, 2): <gurobi.Var x[4,1,2] (value 0.0)>, (4, 1, 3): <gurobi.Var x[4,1,3] (value 0.0)>, (4, 1, 4): <gurobi.Var x[4,1,4] (value 1.0)>, (4, 1, 5): <gurobi.Var x[4,1,5] (value 0.0)>, (4, 1, 6): <gurobi.Var x[4,1,6] (value 0.0)>, (4, 1, 7): <gurobi.Var x[4,1,7] (value 0.0)>, (4, 1, 8): <gurobi.Var x[4,1,8] (value 0.0)>, (4, 2, 0): <gurobi.Var x[4,2,0] (value 0.0)>, (4, 2, 1): <gurobi.Var x[4,2,1] (value 0.0)>, (4, 2, 2): <gurobi.Var x[4,2,2] (value 0.0)>, (4, 2, 3): <gurobi.Var x[4,2,3] (value 0.0)>, (4, 2, 4): <gurobi.Var x[4,2,4] (value 0.0)>, (4, 2, 5): <gurobi.Var x[4,2,5] (value 0.0)>, (4, 2, 6): <gurobi.Var x[4,2,6] (value 0.0)>, (4, 2, 7): <gurobi.Var x[4,2,7] (value 1.0)>, (4, 2, 8): <gurobi.Var x[4,2,8] (value 0.0)>, (4, 3, 0): <gurobi.Var x[4,3,0] (value 1.0)>, (4, 3, 1): <gurobi.Var x[4,3,1] (value 0.0)>, (4, 3, 2): <gurobi.Var x[4,3,2] (value 0.0)>, (4, 3, 3): <gurobi.Var x[4,3,3] (value 0.0)>, (4, 3, 4): <gurobi.Var x[4,3,4] (value 0.0)>, (4, 3, 5): <gurobi.Var x[4,3,5] (value 0.0)>, (4, 3, 6): <gurobi.Var x[4,3,6] (value 0.0)>, (4, 3, 7): <gurobi.Var x[4,3,7] (value 0.0)>, (4, 3, 8): <gurobi.Var x[4,3,8] (value 0.0)>, (4, 4, 0): <gurobi.Var x[4,4,0] (value 0.0)>, (4, 4, 1): <gurobi.Var x[4,4,1] (value 0.0)>, (4, 4, 2): <gurobi.Var x[4,4,2] (value 1.0)>, (4, 4, 3): <gurobi.Var x[4,4,3] (value 0.0)>, (4, 4, 4): <gurobi.Var x[4,4,4] (value 0.0)>, (4, 4, 5): <gurobi.Var x[4,4,5] (value 0.0)>, (4, 4, 6): <gurobi.Var x[4,4,6] (value 0.0)>, (4, 4, 7): <gurobi.Var x[4,4,7] (value 0.0)>, (4, 4, 8): <gurobi.Var x[4,4,8] (value 0.0)>, (4, 5, 0): <gurobi.Var x[4,5,0] (value 0.0)>, (4, 5, 1): <gurobi.Var x[4,5,1] (value 0.0)>, (4, 5, 2): <gurobi.Var x[4,5,2] (value 0.0)>, (4, 5, 3): <gurobi.Var x[4,5,3] (value 0.0)>, (4, 5, 4): <gurobi.Var x[4,5,4] (value 0.0)>, (4, 5, 5): <gurobi.Var x[4,5,5] (value 0.0)>, (4, 5, 6): <gurobi.Var x[4,5,6] (value 1.0)>, (4, 5, 7): <gurobi.Var x[4,5,7] (value 0.0)>, (4, 5, 8): <gurobi.Var x[4,5,8] (value 0.0)>, (4, 6, 0): <gurobi.Var x[4,6,0] (value 0.0)>, (4, 6, 1): <gurobi.Var x[4,6,1] (value 0.0)>, (4, 6, 2): <gurobi.Var x[4,6,2] (value 0.0)>, (4, 6, 3): <gurobi.Var x[4,6,3] (value 0.0)>, (4, 6, 4): <gurobi.Var x[4,6,4] (value 0.0)>, (4, 6, 5): <gurobi.Var x[4,6,5] (value 1.0)>, (4, 6, 6): <gurobi.Var x[4,6,6] (value 0.0)>, (4, 6, 7): <gurobi.Var x[4,6,7] (value 0.0)>, (4, 6, 8): <gurobi.Var x[4,6,8] (value 0.0)>, (4, 7, 0): <gurobi.Var x[4,7,0] (value 0.0)>, (4, 7, 1): <gurobi.Var x[4,7,1] (value 0.0)>, (4, 7, 2): <gurobi.Var x[4,7,2] (value 0.0)>, (4, 7, 3): <gurobi.Var x[4,7,3] (value 1.0)>, (4, 7, 4): <gurobi.Var x[4,7,4] (value 0.0)>, (4, 7, 5): <gurobi.Var x[4,7,5] (value 0.0)>, (4, 7, 6): <gurobi.Var x[4,7,6] (value 0.0)>, (4, 7, 7): <gurobi.Var x[4,7,7] (value 0.0)>, (4, 7, 8): <gurobi.Var x[4,7,8] (value 0.0)>, (4, 8, 0): <gurobi.Var x[4,8,0] (value 0.0)>, (4, 8, 1): <gurobi.Var x[4,8,1] (value 1.0)>, (4, 8, 2): <gurobi.Var x[4,8,2] (value 0.0)>, (4, 8, 3): <gurobi.Var x[4,8,3] (value 0.0)>, (4, 8, 4): <gurobi.Var x[4,8,4] (value 0.0)>, (4, 8, 5): <gurobi.Var x[4,8,5] (value 0.0)>, (4, 8, 6): <gurobi.Var x[4,8,6] (value 0.0)>, (4, 8, 7): <gurobi.Var x[4,8,7] (value 0.0)>, (4, 8, 8): <gurobi.Var x[4,8,8] (value 0.0)>, (5, 0, 0): <gurobi.Var x[5,0,0] (value 0.0)>, (5, 0, 1): <gurobi.Var x[5,0,1] (value 0.0)>, (5, 0, 2): <gurobi.Var x[5,0,2] (value 0.0)>, (5, 0, 3): <gurobi.Var x[5,0,3] (value 1.0)>, (5, 0, 4): <gurobi.Var x[5,0,4] (value 0.0)>, (5, 0, 5): <gurobi.Var x[5,0,5] (value 0.0)>, (5, 0, 6): <gurobi.Var x[5,0,6] (value 0.0)>, (5, 0, 7): <gurobi.Var x[5,0,7] (value 0.0)>, (5, 0, 8): <gurobi.Var x[5,0,8] (value 0.0)>, (5, 1, 0): <gurobi.Var x[5,1,0] (value 0.0)>, (5, 1, 1): <gurobi.Var x[5,1,1] (value 0.0)>, (5, 1, 2): <gurobi.Var x[5,1,2] (value 0.0)>, (5, 1, 3): <gurobi.Var x[5,1,3] (value 0.0)>, (5, 1, 4): <gurobi.Var x[5,1,4] (value 0.0)>, (5, 1, 5): <gurobi.Var x[5,1,5] (value 0.0)>, (5, 1, 6): <gurobi.Var x[5,1,6] (value 1.0)>, (5, 1, 7): <gurobi.Var x[5,1,7] (value 0.0)>, (5, 1, 8): <gurobi.Var x[5,1,8] (value 0.0)>, (5, 2, 0): <gurobi.Var x[5,2,0] (value 0.0)>, (5, 2, 1): <gurobi.Var x[5,2,1] (value 0.0)>, (5, 2, 2): <gurobi.Var x[5,2,2] (value 1.0)>, (5, 2, 3): <gurobi.Var x[5,2,3] (value 0.0)>, (5, 2, 4): <gurobi.Var x[5,2,4] (value 0.0)>, (5, 2, 5): <gurobi.Var x[5,2,5] (value 0.0)>, (5, 2, 6): <gurobi.Var x[5,2,6] (value 0.0)>, (5, 2, 7): <gurobi.Var x[5,2,7] (value 0.0)>, (5, 2, 8): <gurobi.Var x[5,2,8] (value 0.0)>, (5, 3, 0): <gurobi.Var x[5,3,0] (value 0.0)>, (5, 3, 1): <gurobi.Var x[5,3,1] (value 1.0)>, (5, 3, 2): <gurobi.Var x[5,3,2] (value 0.0)>, (5, 3, 3): <gurobi.Var x[5,3,3] (value 0.0)>, (5, 3, 4): <gurobi.Var x[5,3,4] (value 0.0)>, (5, 3, 5): <gurobi.Var x[5,3,5] (value 0.0)>, (5, 3, 6): <gurobi.Var x[5,3,6] (value 0.0)>, (5, 3, 7): <gurobi.Var x[5,3,7] (value 0.0)>, (5, 3, 8): <gurobi.Var x[5,3,8] (value 0.0)>, (5, 4, 0): <gurobi.Var x[5,4,0] (value 0.0)>, (5, 4, 1): <gurobi.Var x[5,4,1] (value 0.0)>, (5, 4, 2): <gurobi.Var x[5,4,2] (value 0.0)>, (5, 4, 3): <gurobi.Var x[5,4,3] (value 0.0)>, (5, 4, 4): <gurobi.Var x[5,4,4] (value 0.0)>, (5, 4, 5): <gurobi.Var x[5,4,5] (value 1.0)>, (5, 4, 6): <gurobi.Var x[5,4,6] (value 0.0)>, (5, 4, 7): <gurobi.Var x[5,4,7] (value 0.0)>, (5, 4, 8): <gurobi.Var x[5,4,8] (value 0.0)>, (5, 5, 0): <gurobi.Var x[5,5,0] (value 0.0)>, (5, 5, 1): <gurobi.Var x[5,5,1] (value 0.0)>, (5, 5, 2): <gurobi.Var x[5,5,2] (value 0.0)>, (5, 5, 3): <gurobi.Var x[5,5,3] (value 0.0)>, (5, 5, 4): <gurobi.Var x[5,5,4] (value 0.0)>, (5, 5, 5): <gurobi.Var x[5,5,5] (value 0.0)>, (5, 5, 6): <gurobi.Var x[5,5,6] (value 0.0)>, (5, 5, 7): <gurobi.Var x[5,5,7] (value 0.0)>, (5, 5, 8): <gurobi.Var x[5,5,8] (value 1.0)>, (5, 6, 0): <gurobi.Var x[5,6,0] (value 1.0)>, (5, 6, 1): <gurobi.Var x[5,6,1] (value 0.0)>, (5, 6, 2): <gurobi.Var x[5,6,2] (value 0.0)>, (5, 6, 3): <gurobi.Var x[5,6,3] (value 0.0)>, (5, 6, 4): <gurobi.Var x[5,6,4] (value 0.0)>, (5, 6, 5): <gurobi.Var x[5,6,5] (value 0.0)>, (5, 6, 6): <gurobi.Var x[5,6,6] (value 0.0)>, (5, 6, 7): <gurobi.Var x[5,6,7] (value 0.0)>, (5, 6, 8): <gurobi.Var x[5,6,8] (value 0.0)>, (5, 7, 0): <gurobi.Var x[5,7,0] (value 0.0)>, (5, 7, 1): <gurobi.Var x[5,7,1] (value 0.0)>, (5, 7, 2): <gurobi.Var x[5,7,2] (value 0.0)>, (5, 7, 3): <gurobi.Var x[5,7,3] (value 0.0)>, (5, 7, 4): <gurobi.Var x[5,7,4] (value 1.0)>, (5, 7, 5): <gurobi.Var x[5,7,5] (value 0.0)>, (5, 7, 6): <gurobi.Var x[5,7,6] (value 0.0)>, (5, 7, 7): <gurobi.Var x[5,7,7] (value 0.0)>, (5, 7, 8): <gurobi.Var x[5,7,8] (value 0.0)>, (5, 8, 0): <gurobi.Var x[5,8,0] (value 0.0)>, (5, 8, 1): <gurobi.Var x[5,8,1] (value 0.0)>, (5, 8, 2): <gurobi.Var x[5,8,2] (value 0.0)>, (5, 8, 3): <gurobi.Var x[5,8,3] (value 0.0)>, (5, 8, 4): <gurobi.Var x[5,8,4] (value 0.0)>, (5, 8, 5): <gurobi.Var x[5,8,5] (value 0.0)>, (5, 8, 6): <gurobi.Var x[5,8,6] (value 0.0)>, (5, 8, 7): <gurobi.Var x[5,8,7] (value 1.0)>, (5, 8, 8): <gurobi.Var x[5,8,8] (value 0.0)>, (6, 0, 0): <gurobi.Var x[6,0,0] (value 0.0)>, (6, 0, 1): <gurobi.Var x[6,0,1] (value 0.0)>, (6, 0, 2): <gurobi.Var x[6,0,2] (value 1.0)>, (6, 0, 3): <gurobi.Var x[6,0,3] (value 0.0)>, (6, 0, 4): <gurobi.Var x[6,0,4] (value 0.0)>, (6, 0, 5): <gurobi.Var x[6,0,5] (value 0.0)>, (6, 0, 6): <gurobi.Var x[6,0,6] (value 0.0)>, (6, 0, 7): <gurobi.Var x[6,0,7] (value 0.0)>, (6, 0, 8): <gurobi.Var x[6,0,8] (value 0.0)>, (6, 1, 0): <gurobi.Var x[6,1,0] (value 0.0)>, (6, 1, 1): <gurobi.Var x[6,1,1] (value 0.0)>, (6, 1, 2): <gurobi.Var x[6,1,2] (value 0.0)>, (6, 1, 3): <gurobi.Var x[6,1,3] (value 0.0)>, (6, 1, 4): <gurobi.Var x[6,1,4] (value 0.0)>, (6, 1, 5): <gurobi.Var x[6,1,5] (value 0.0)>, (6, 1, 6): <gurobi.Var x[6,1,6] (value 0.0)>, (6, 1, 7): <gurobi.Var x[6,1,7] (value 1.0)>, (6, 1, 8): <gurobi.Var x[6,1,8] (value 0.0)>, (6, 2, 0): <gurobi.Var x[6,2,0] (value 0.0)>, (6, 2, 1): <gurobi.Var x[6,2,1] (value 0.0)>, (6, 2, 2): <gurobi.Var x[6,2,2] (value 0.0)>, (6, 2, 3): <gurobi.Var x[6,2,3] (value 1.0)>, (6, 2, 4): <gurobi.Var x[6,2,4] (value 0.0)>, (6, 2, 5): <gurobi.Var x[6,2,5] (value 0.0)>, (6, 2, 6): <gurobi.Var x[6,2,6] (value 0.0)>, (6, 2, 7): <gurobi.Var x[6,2,7] (value 0.0)>, (6, 2, 8): <gurobi.Var x[6,2,8] (value 0.0)>, (6, 3, 0): <gurobi.Var x[6,3,0] (value 0.0)>, (6, 3, 1): <gurobi.Var x[6,3,1] (value 0.0)>, (6, 3, 2): <gurobi.Var x[6,3,2] (value 0.0)>, (6, 3, 3): <gurobi.Var x[6,3,3] (value 0.0)>, (6, 3, 4): <gurobi.Var x[6,3,4] (value 0.0)>, (6, 3, 5): <gurobi.Var x[6,3,5] (value 1.0)>, (6, 3, 6): <gurobi.Var x[6,3,6] (value 0.0)>, (6, 3, 7): <gurobi.Var x[6,3,7] (value 0.0)>, (6, 3, 8): <gurobi.Var x[6,3,8] (value 0.0)>, (6, 4, 0): <gurobi.Var x[6,4,0] (value 0.0)>, (6, 4, 1): <gurobi.Var x[6,4,1] (value 0.0)>, (6, 4, 2): <gurobi.Var x[6,4,2] (value 0.0)>, (6, 4, 3): <gurobi.Var x[6,4,3] (value 0.0)>, (6, 4, 4): <gurobi.Var x[6,4,4] (value 0.0)>, (6, 4, 5): <gurobi.Var x[6,4,5] (value 0.0)>, (6, 4, 6): <gurobi.Var x[6,4,6] (value 1.0)>, (6, 4, 7): <gurobi.Var x[6,4,7] (value 0.0)>, (6, 4, 8): <gurobi.Var x[6,4,8] (value 0.0)>, (6, 5, 0): <gurobi.Var x[6,5,0] (value 0.0)>, (6, 5, 1): <gurobi.Var x[6,5,1] (value 0.0)>, (6, 5, 2): <gurobi.Var x[6,5,2] (value 0.0)>, (6, 5, 3): <gurobi.Var x[6,5,3] (value 0.0)>, (6, 5, 4): <gurobi.Var x[6,5,4] (value 1.0)>, (6, 5, 5): <gurobi.Var x[6,5,5] (value 0.0)>, (6, 5, 6): <gurobi.Var x[6,5,6] (value 0.0)>, (6, 5, 7): <gurobi.Var x[6,5,7] (value 0.0)>, (6, 5, 8): <gurobi.Var x[6,5,8] (value 0.0)>, (6, 6, 0): <gurobi.Var x[6,6,0] (value 0.0)>, (6, 6, 1): <gurobi.Var x[6,6,1] (value 1.0)>, (6, 6, 2): <gurobi.Var x[6,6,2] (value 0.0)>, (6, 6, 3): <gurobi.Var x[6,6,3] (value 0.0)>, (6, 6, 4): <gurobi.Var x[6,6,4] (value 0.0)>, (6, 6, 5): <gurobi.Var x[6,6,5] (value 0.0)>, (6, 6, 6): <gurobi.Var x[6,6,6] (value 0.0)>, (6, 6, 7): <gurobi.Var x[6,6,7] (value 0.0)>, (6, 6, 8): <gurobi.Var x[6,6,8] (value 0.0)>, (6, 7, 0): <gurobi.Var x[6,7,0] (value 0.0)>, (6, 7, 1): <gurobi.Var x[6,7,1] (value 0.0)>, (6, 7, 2): <gurobi.Var x[6,7,2] (value 0.0)>, (6, 7, 3): <gurobi.Var x[6,7,3] (value 0.0)>, (6, 7, 4): <gurobi.Var x[6,7,4] (value 0.0)>, (6, 7, 5): <gurobi.Var x[6,7,5] (value 0.0)>, (6, 7, 6): <gurobi.Var x[6,7,6] (value 0.0)>, (6, 7, 7): <gurobi.Var x[6,7,7] (value 0.0)>, (6, 7, 8): <gurobi.Var x[6,7,8] (value 1.0)>, (6, 8, 0): <gurobi.Var x[6,8,0] (value 1.0)>, (6, 8, 1): <gurobi.Var x[6,8,1] (value 0.0)>, (6, 8, 2): <gurobi.Var x[6,8,2] (value 0.0)>, (6, 8, 3): <gurobi.Var x[6,8,3] (value 0.0)>, (6, 8, 4): <gurobi.Var x[6,8,4] (value 0.0)>, (6, 8, 5): <gurobi.Var x[6,8,5] (value 0.0)>, (6, 8, 6): <gurobi.Var x[6,8,6] (value 0.0)>, (6, 8, 7): <gurobi.Var x[6,8,7] (value 0.0)>, (6, 8, 8): <gurobi.Var x[6,8,8] (value 0.0)>, (7, 0, 0): <gurobi.Var x[7,0,0] (value 0.0)>, (7, 0, 1): <gurobi.Var x[7,0,1] (value 0.0)>, (7, 0, 2): <gurobi.Var x[7,0,2] (value 0.0)>, (7, 0, 3): <gurobi.Var x[7,0,3] (value 0.0)>, (7, 0, 4): <gurobi.Var x[7,0,4] (value 0.0)>, (7, 0, 5): <gurobi.Var x[7,0,5] (value 0.0)>, (7, 0, 6): <gurobi.Var x[7,0,6] (value 1.0)>, (7, 0, 7): <gurobi.Var x[7,0,7] (value 0.0)>, (7, 0, 8): <gurobi.Var x[7,0,8] (value 0.0)>, (7, 1, 0): <gurobi.Var x[7,1,0] (value 0.0)>, (7, 1, 1): <gurobi.Var x[7,1,1] (value 0.0)>, (7, 1, 2): <gurobi.Var x[7,1,2] (value 0.0)>, (7, 1, 3): <gurobi.Var x[7,1,3] (value 0.0)>, (7, 1, 4): <gurobi.Var x[7,1,4] (value 0.0)>, (7, 1, 5): <gurobi.Var x[7,1,5] (value 0.0)>, (7, 1, 6): <gurobi.Var x[7,1,6] (value 0.0)>, (7, 1, 7): <gurobi.Var x[7,1,7] (value 0.0)>, (7, 1, 8): <gurobi.Var x[7,1,8] (value 1.0)>, (7, 2, 0): <gurobi.Var x[7,2,0] (value 1.0)>, (7, 2, 1): <gurobi.Var x[7,2,1] (value 0.0)>, (7, 2, 2): <gurobi.Var x[7,2,2] (value 0.0)>, (7, 2, 3): <gurobi.Var x[7,2,3] (value 0.0)>, (7, 2, 4): <gurobi.Var x[7,2,4] (value 0.0)>, (7, 2, 5): <gurobi.Var x[7,2,5] (value 0.0)>, (7, 2, 6): <gurobi.Var x[7,2,6] (value 0.0)>, (7, 2, 7): <gurobi.Var x[7,2,7] (value 0.0)>, (7, 2, 8): <gurobi.Var x[7,2,8] (value 0.0)>, (7, 3, 0): <gurobi.Var x[7,3,0] (value 0.0)>, (7, 3, 1): <gurobi.Var x[7,3,1] (value 0.0)>, (7, 3, 2): <gurobi.Var x[7,3,2] (value 0.0)>, (7, 3, 3): <gurobi.Var x[7,3,3] (value 1.0)>, (7, 3, 4): <gurobi.Var x[7,3,4] (value 0.0)>, (7, 3, 5): <gurobi.Var x[7,3,5] (value 0.0)>, (7, 3, 6): <gurobi.Var x[7,3,6] (value 0.0)>, (7, 3, 7): <gurobi.Var x[7,3,7] (value 0.0)>, (7, 3, 8): <gurobi.Var x[7,3,8] (value 0.0)>, (7, 4, 0): <gurobi.Var x[7,4,0] (value 0.0)>, (7, 4, 1): <gurobi.Var x[7,4,1] (value 1.0)>, (7, 4, 2): <gurobi.Var x[7,4,2] (value 0.0)>, (7, 4, 3): <gurobi.Var x[7,4,3] (value 0.0)>, (7, 4, 4): <gurobi.Var x[7,4,4] (value 0.0)>, (7, 4, 5): <gurobi.Var x[7,4,5] (value 0.0)>, (7, 4, 6): <gurobi.Var x[7,4,6] (value 0.0)>, (7, 4, 7): <gurobi.Var x[7,4,7] (value 0.0)>, (7, 4, 8): <gurobi.Var x[7,4,8] (value 0.0)>, (7, 5, 0): <gurobi.Var x[7,5,0] (value 0.0)>, (7, 5, 1): <gurobi.Var x[7,5,1] (value 0.0)>, (7, 5, 2): <gurobi.Var x[7,5,2] (value 0.0)>, (7, 5, 3): <gurobi.Var x[7,5,3] (value 0.0)>, (7, 5, 4): <gurobi.Var x[7,5,4] (value 0.0)>, (7, 5, 5): <gurobi.Var x[7,5,5] (value 0.0)>, (7, 5, 6): <gurobi.Var x[7,5,6] (value 0.0)>, (7, 5, 7): <gurobi.Var x[7,5,7] (value 1.0)>, (7, 5, 8): <gurobi.Var x[7,5,8] (value 0.0)>, (7, 6, 0): <gurobi.Var x[7,6,0] (value 0.0)>, (7, 6, 1): <gurobi.Var x[7,6,1] (value 0.0)>, (7, 6, 2): <gurobi.Var x[7,6,2] (value 0.0)>, (7, 6, 3): <gurobi.Var x[7,6,3] (value 0.0)>, (7, 6, 4): <gurobi.Var x[7,6,4] (value 1.0)>, (7, 6, 5): <gurobi.Var x[7,6,5] (value 0.0)>, (7, 6, 6): <gurobi.Var x[7,6,6] (value 0.0)>, (7, 6, 7): <gurobi.Var x[7,6,7] (value 0.0)>, (7, 6, 8): <gurobi.Var x[7,6,8] (value 0.0)>, (7, 7, 0): <gurobi.Var x[7,7,0] (value 0.0)>, (7, 7, 1): <gurobi.Var x[7,7,1] (value 0.0)>, (7, 7, 2): <gurobi.Var x[7,7,2] (value 0.0)>, (7, 7, 3): <gurobi.Var x[7,7,3] (value 0.0)>, (7, 7, 4): <gurobi.Var x[7,7,4] (value 0.0)>, (7, 7, 5): <gurobi.Var x[7,7,5] (value 1.0)>, (7, 7, 6): <gurobi.Var x[7,7,6] (value 0.0)>, (7, 7, 7): <gurobi.Var x[7,7,7] (value 0.0)>, (7, 7, 8): <gurobi.Var x[7,7,8] (value 0.0)>, (7, 8, 0): <gurobi.Var x[7,8,0] (value 0.0)>, (7, 8, 1): <gurobi.Var x[7,8,1] (value 0.0)>, (7, 8, 2): <gurobi.Var x[7,8,2] (value 1.0)>, (7, 8, 3): <gurobi.Var x[7,8,3] (value 0.0)>, (7, 8, 4): <gurobi.Var x[7,8,4] (value 0.0)>, (7, 8, 5): <gurobi.Var x[7,8,5] (value 0.0)>, (7, 8, 6): <gurobi.Var x[7,8,6] (value 0.0)>, (7, 8, 7): <gurobi.Var x[7,8,7] (value 0.0)>, (7, 8, 8): <gurobi.Var x[7,8,8] (value 0.0)>, (8, 0, 0): <gurobi.Var x[8,0,0] (value 0.0)>, (8, 0, 1): <gurobi.Var x[8,0,1] (value 0.0)>, (8, 0, 2): <gurobi.Var x[8,0,2] (value 0.0)>, (8, 0, 3): <gurobi.Var x[8,0,3] (value 0.0)>, (8, 0, 4): <gurobi.Var x[8,0,4] (value 0.0)>, (8, 0, 5): <gurobi.Var x[8,0,5] (value 1.0)>, (8, 0, 6): <gurobi.Var x[8,0,6] (value 0.0)>, (8, 0, 7): <gurobi.Var x[8,0,7] (value 0.0)>, (8, 0, 8): <gurobi.Var x[8,0,8] (value 0.0)>, (8, 1, 0): <gurobi.Var x[8,1,0] (value 0.0)>, (8, 1, 1): <gurobi.Var x[8,1,1] (value 1.0)>, (8, 1, 2): <gurobi.Var x[8,1,2] (value 0.0)>, (8, 1, 3): <gurobi.Var x[8,1,3] (value 0.0)>, (8, 1, 4): <gurobi.Var x[8,1,4] (value 0.0)>, (8, 1, 5): <gurobi.Var x[8,1,5] (value 0.0)>, (8, 1, 6): <gurobi.Var x[8,1,6] (value 0.0)>, (8, 1, 7): <gurobi.Var x[8,1,7] (value 0.0)>, (8, 1, 8): <gurobi.Var x[8,1,8] (value 0.0)>, (8, 2, 0): <gurobi.Var x[8,2,0] (value 0.0)>, (8, 2, 1): <gurobi.Var x[8,2,1] (value 0.0)>, (8, 2, 2): <gurobi.Var x[8,2,2] (value 0.0)>, (8, 2, 3): <gurobi.Var x[8,2,3] (value 0.0)>, (8, 2, 4): <gurobi.Var x[8,2,4] (value 1.0)>, (8, 2, 5): <gurobi.Var x[8,2,5] (value 0.0)>, (8, 2, 6): <gurobi.Var x[8,2,6] (value 0.0)>, (8, 2, 7): <gurobi.Var x[8,2,7] (value 0.0)>, (8, 2, 8): <gurobi.Var x[8,2,8] (value 0.0)>, (8, 3, 0): <gurobi.Var x[8,3,0] (value 0.0)>, (8, 3, 1): <gurobi.Var x[8,3,1] (value 0.0)>, (8, 3, 2): <gurobi.Var x[8,3,2] (value 1.0)>, (8, 3, 3): <gurobi.Var x[8,3,3] (value 0.0)>, (8, 3, 4): <gurobi.Var x[8,3,4] (value 0.0)>, (8, 3, 5): <gurobi.Var x[8,3,5] (value 0.0)>, (8, 3, 6): <gurobi.Var x[8,3,6] (value 0.0)>, (8, 3, 7): <gurobi.Var x[8,3,7] (value 0.0)>, (8, 3, 8): <gurobi.Var x[8,3,8] (value 0.0)>, (8, 4, 0): <gurobi.Var x[8,4,0] (value 0.0)>, (8, 4, 1): <gurobi.Var x[8,4,1] (value 0.0)>, (8, 4, 2): <gurobi.Var x[8,4,2] (value 0.0)>, (8, 4, 3): <gurobi.Var x[8,4,3] (value 0.0)>, (8, 4, 4): <gurobi.Var x[8,4,4] (value 0.0)>, (8, 4, 5): <gurobi.Var x[8,4,5] (value 0.0)>, (8, 4, 6): <gurobi.Var x[8,4,6] (value 0.0)>, (8, 4, 7): <gurobi.Var x[8,4,7] (value 0.0)>, (8, 4, 8): <gurobi.Var x[8,4,8] (value 1.0)>, (8, 5, 0): <gurobi.Var x[8,5,0] (value 1.0)>, (8, 5, 1): <gurobi.Var x[8,5,1] (value 0.0)>, (8, 5, 2): <gurobi.Var x[8,5,2] (value 0.0)>, (8, 5, 3): <gurobi.Var x[8,5,3] (value 0.0)>, (8, 5, 4): <gurobi.Var x[8,5,4] (value 0.0)>, (8, 5, 5): <gurobi.Var x[8,5,5] (value 0.0)>, (8, 5, 6): <gurobi.Var x[8,5,6] (value 0.0)>, (8, 5, 7): <gurobi.Var x[8,5,7] (value 0.0)>, (8, 5, 8): <gurobi.Var x[8,5,8] (value 0.0)>, (8, 6, 0): <gurobi.Var x[8,6,0] (value 0.0)>, (8, 6, 1): <gurobi.Var x[8,6,1] (value 0.0)>, (8, 6, 2): <gurobi.Var x[8,6,2] (value 0.0)>, (8, 6, 3): <gurobi.Var x[8,6,3] (value 0.0)>, (8, 6, 4): <gurobi.Var x[8,6,4] (value 0.0)>, (8, 6, 5): <gurobi.Var x[8,6,5] (value 0.0)>, (8, 6, 6): <gurobi.Var x[8,6,6] (value 1.0)>, (8, 6, 7): <gurobi.Var x[8,6,7] (value 0.0)>, (8, 6, 8): <gurobi.Var x[8,6,8] (value 0.0)>, (8, 7, 0): <gurobi.Var x[8,7,0] (value 0.0)>, (8, 7, 1): <gurobi.Var x[8,7,1] (value 0.0)>, (8, 7, 2): <gurobi.Var x[8,7,2] (value 0.0)>, (8, 7, 3): <gurobi.Var x[8,7,3] (value 0.0)>, (8, 7, 4): <gurobi.Var x[8,7,4] (value 0.0)>, (8, 7, 5): <gurobi.Var x[8,7,5] (value 0.0)>, (8, 7, 6): <gurobi.Var x[8,7,6] (value 0.0)>, (8, 7, 7): <gurobi.Var x[8,7,7] (value 1.0)>, (8, 7, 8): <gurobi.Var x[8,7,8] (value 0.0)>, (8, 8, 0): <gurobi.Var x[8,8,0] (value 0.0)>, (8, 8, 1): <gurobi.Var x[8,8,1] (value 0.0)>, (8, 8, 2): <gurobi.Var x[8,8,2] (value 0.0)>, (8, 8, 3): <gurobi.Var x[8,8,3] (value 1.0)>, (8, 8, 4): <gurobi.Var x[8,8,4] (value 0.0)>, (8, 8, 5): <gurobi.Var x[8,8,5] (value 0.0)>, (8, 8, 6): <gurobi.Var x[8,8,6] (value 0.0)>, (8, 8, 7): <gurobi.Var x[8,8,7] (value 0.0)>, (8, 8, 8): <gurobi.Var x[8,8,8] (value 0.0)>}\n"
     ]
    }
   ],
   "source": [
    "print(x)"
   ]
  },
  {
   "cell_type": "code",
   "execution_count": 15,
   "id": "8e45fa5b",
   "metadata": {},
   "outputs": [
    {
     "name": "stdout",
     "output_type": "stream",
     "text": [
      "|8 1 7|5 4 2|9 3 6|\n",
      "|2 3 9|7 8 6|4 1 5|\n",
      "|5 4 6|9 1 3|8 2 7|\n",
      "-------------------\n",
      "|1 6 2|8 5 4|3 7 9|\n",
      "|9 5 8|1 3 7|6 4 2|\n",
      "|4 7 3|2 6 9|1 5 8|\n",
      "-------------------\n",
      "|3 8 4|6 7 5|2 9 1|\n",
      "|7 9 1|4 2 8|5 6 3|\n",
      "|6 2 5|3 9 1|7 8 4|\n"
     ]
    }
   ],
   "source": [
    "# 可视化数独求解结果\n",
    "\n",
    "sudoku_solution = sudoku_info.copy()\n",
    "for i in range(N):\n",
    "    for j in range(N):\n",
    "        for k in range(N):\n",
    "            if x[i,j,k].x > 0.5:\n",
    "                sudoku_solution[i,j] = k+1\n",
    "                \n",
    "print_board(sudoku_solution)"
   ]
  }
 ],
 "metadata": {
  "kernelspec": {
   "display_name": "Python 3 (ipykernel)",
   "language": "python",
   "name": "python3"
  },
  "language_info": {
   "codemirror_mode": {
    "name": "ipython",
    "version": 3
   },
   "file_extension": ".py",
   "mimetype": "text/x-python",
   "name": "python",
   "nbconvert_exporter": "python",
   "pygments_lexer": "ipython3",
   "version": "3.9.13"
  }
 },
 "nbformat": 4,
 "nbformat_minor": 5
}
