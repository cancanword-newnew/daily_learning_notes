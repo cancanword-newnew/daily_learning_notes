{
 "cells": [
  {
   "cell_type": "markdown",
   "id": "324cee94",
   "metadata": {},
   "source": [
    "# 2025_09_09\n",
    "## R_basic"
   ]
  },
  {
   "cell_type": "markdown",
   "id": "22e23a17",
   "metadata": {},
   "source": [
    "## 1. 注释\n",
    "用于解释代码，不会被执行\n",
    "#这是单行注释\n",
    "5 + 3 # 注释可以放在代码行末尾\n",
    "#多行注释需要每个行都添加井号\n",
    "# R语言基础语法整理（续）\n",
    "\n",
    "## 5. 流程控制\n",
    "```r\n",
    "# if条件语句\n",
    "if (x > 5) {\n",
    "  print(\"x大于5\")\n",
    "} else {\n",
    "  print(\"x小于等于5\")\n",
    "}\n",
    "\n",
    "# for循环\n",
    "for (i in 1:5) {\n",
    "  print(i)\n",
    "}\n",
    "\n",
    "# while循环\n",
    "count <- 1\n",
    "while (count <= 5) {\n",
    "  print(count)\n",
    "  count <- count + 1\n",
    "}"
   ]
  },
  {
   "cell_type": "markdown",
   "id": "9c104f97",
   "metadata": {},
   "source": [
    "R 代码由表达式构成，表达式之间用分号或换行隔开。**对象名区分大小写**，不能以数字开头，可含字母、数字、句点和下划线。注释以 `#` 开头直至行尾，**缺失值写作 `NA`**，无穷写作 `Inf`、`-Inf`，非数写作 `NaN`。赋值符号最常用 **`<-`**，也可用 `=` 或 `->`，但 `<-` 更地道。基本数据类型有 numeric、integer、character、logical、complex、raw，最常用前四种。**向量是 R 的核心**，用 `c()` 拼接，元素须同类型，索引从 1 开始，可用正整数、负整数、逻辑向量或字符向量取子集。列表 `list()` 可嵌套任意类型，元素用 `[[ ]]` 或 `$` 提取，**双方括号可深入一层**。矩阵与数组按列优先存储，由 `matrix()` 和 `array()` 构造，`dim()` 查看或设置维度。数据框 `data.frame()` 是列等长、列可类型的列表，行为观测、列为变量，读写用 `read.csv()`、`write.csv()`，`head()` 快速查看。因子 `factor()` 用于分类，底层整数编码，水平由 `levels()` 控制，有序因子设 `ordered = TRUE`。\n",
    "\n",
    "流程控制用 `if (cond) expr else expr` 和 `switch()`，**向量化三元运算用 `ifelse(test, yes, no)`**。循环有 `for (var in seq)`、`while (cond)` 和 `repeat`，可用 `break`/`next` 跳出或跳过，但 R **推崇向量化而少用显式循环**。函数定义写作 `fname <- function(arg1, arg2 = default) { ... ; value }`，**最后一表达式自动返回**，形参可设默认值，调用时可按位或显名传参，`...` 收集多余参数。作用域采用**词法作用域**，函数先在定义环境找符号，再逐层向上。包用 `install.packages(\"pkg\")` 下载，`library(pkg)` 载入，`::` 单次调用包内对象。帮助用 `?foo` 查函数，`example(\"foo\")` 跑示例，`vignette(\"topic\")` 看长文档。工作空间镜像 `.RData` 在退出时可保存，`save.image()` 手动存，`load()` 读回，`rm(list = ls())` 清内存。路径用正斜杠 `/` 或双反斜杠 `\\\\`，`setwd()` 改工作目录，`getwd()` 查询。打印机制键入对象名即回显，`print()` 可自定义方法，`cat()` 拼接输出，`paste()` 返回字符向量。选项由 `options()` 设置，如 `digits = 4` 控制小数位。随机数 `set.seed(i)` 保可复现，`rnorm()`、`runif()` 等按分布生成。\n",
    "\n",
    "**apply 族实现拆分计算合并**：`apply(X, MARGIN, FUN)` 对矩阵数组，`lapply(X, FUN)` 返回列表，`sapply()` 简化结果，`vapply()` 预指定类型更安全，`tapply()` 按因子分组汇总，`mapply()` 多参数并行。管道操作原生 4.1 起用 `|>`，**magrittr 提供 `%>%`**，把左侧结果作为右侧函数首参，使链式写法更流畅。面向对象有 S3、S4、R6：S3 用 `class(obj) <- \"cls\"` 打标签，再定义 `print.cls` 等泛型方法；S4 用 `setClass()` 定义类，`setMethod()` 写方法，槽位由 `@` 访问；R6 封装引用类，支持私有字段与主动绑定。调试用 `browser()` 断住，`debug(fn)` 步入函数，`trace()` 动态插入代码，`recover()` 出错时选择帧回溯。性能分析 `system.time(expr)` 粗略计时，`profvis` 包可视化热点，`Rprof()` 采样剖析。**向量化代码优先**，矩阵运算尽量用 `%*%`、`crossprod()` 等内置线性代数，避免逐行 `for`。大数据可换 `data.table` 语法 `DT[i, j, by]` 或 `dplyr` 语法 `df %>% group_by() %>% summarise()`，均底层优化。并行计算有 `parallel` 包 `mclapply()`（Unix）与 `parLapply()`（跨平台），`foreach` `%dopar%` 提供更抽象接口。脚本可在终端 `Rscript foo.R arg1 arg2` 非交互运行，`commandArgs()` 接参数；`source(\"bar.R\")` 在会话内复用代码。**R Markdown 将代码与文本混排**，编织生成 HTML/PDF/Word，以 ```{r} 代码块嵌入，YAML 头控制选项。最后，社区规范：变量小写加下划线，函数驼峰或点分隔，包名简短无点，**提交 CRAN 需过 `R CMD check` 无警告**。"
   ]
  }
 ],
 "metadata": {
  "kernelspec": {
   "display_name": "Python 3 (ipykernel)",
   "language": "python",
   "name": "python3"
  },
  "language_info": {
   "codemirror_mode": {
    "name": "ipython",
    "version": 3
   },
   "file_extension": ".py",
   "mimetype": "text/x-python",
   "name": "python",
   "nbconvert_exporter": "python",
   "pygments_lexer": "ipython3",
   "version": "3.9.13"
  }
 },
 "nbformat": 4,
 "nbformat_minor": 5
}
